{
 "cells": [
  {
   "cell_type": "code",
   "execution_count": 2,
   "id": "8fc5e618-3567-487e-80e8-5b770407151e",
   "metadata": {},
   "outputs": [],
   "source": [
    "import polars as pl\n",
    "import pandas as pd\n",
    "import numpy as np"
   ]
  },
  {
   "cell_type": "code",
   "execution_count": 43,
   "id": "93ccf187-4db3-4006-8db6-045ce09151b2",
   "metadata": {},
   "outputs": [],
   "source": [
    "import matplotlib.pyplot as plt\n",
    "import seaborn as sns"
   ]
  },
  {
   "cell_type": "code",
   "execution_count": 3,
   "id": "699c549a-ec93-429d-863d-a034d9703a63",
   "metadata": {},
   "outputs": [],
   "source": [
    "df = pl.read_parquet('../notebooks/data/bike_sales.parquet')"
   ]
  },
  {
   "cell_type": "code",
   "execution_count": 4,
   "id": "45f53d1a-9acd-457b-a5bb-983bc1ab671d",
   "metadata": {},
   "outputs": [
    {
     "data": {
      "text/html": [
       "<div><style>\n",
       ".dataframe > thead > tr > th,\n",
       ".dataframe > tbody > tr > td {\n",
       "  text-align: right;\n",
       "  white-space: pre-wrap;\n",
       "}\n",
       "</style>\n",
       "<small>shape: (3, 10)</small><table border=\"1\" class=\"dataframe\"><thead><tr><th>date</th><th>customer age</th><th>customer gender</th><th>country</th><th>sub category</th><th>order quantity</th><th>unit cost</th><th>unit price</th><th>cost</th><th>revenue</th></tr><tr><td>date</td><td>i64</td><td>str</td><td>str</td><td>str</td><td>i64</td><td>i64</td><td>i64</td><td>i64</td><td>i64</td></tr></thead><tbody><tr><td>2013-01-28</td><td>31</td><td>&quot;M&quot;</td><td>&quot;Australia&quot;</td><td>&quot;Mountain Bikes…</td><td>1</td><td>1912</td><td>3400</td><td>1912</td><td>2856</td></tr><tr><td>2015-01-28</td><td>31</td><td>&quot;M&quot;</td><td>&quot;Australia&quot;</td><td>&quot;Mountain Bikes…</td><td>1</td><td>1912</td><td>3400</td><td>1912</td><td>2856</td></tr><tr><td>2013-07-22</td><td>31</td><td>&quot;M&quot;</td><td>&quot;Australia&quot;</td><td>&quot;Mountain Bikes…</td><td>1</td><td>1912</td><td>3400</td><td>1912</td><td>2856</td></tr></tbody></table></div>"
      ],
      "text/plain": [
       "shape: (3, 10)\n",
       "┌────────────┬──────────┬──────────┬───────────┬───┬───────────┬────────────┬──────┬─────────┐\n",
       "│ date       ┆ customer ┆ customer ┆ country   ┆ … ┆ unit cost ┆ unit price ┆ cost ┆ revenue │\n",
       "│ ---        ┆ age      ┆ gender   ┆ ---       ┆   ┆ ---       ┆ ---        ┆ ---  ┆ ---     │\n",
       "│ date       ┆ ---      ┆ ---      ┆ str       ┆   ┆ i64       ┆ i64        ┆ i64  ┆ i64     │\n",
       "│            ┆ i64      ┆ str      ┆           ┆   ┆           ┆            ┆      ┆         │\n",
       "╞════════════╪══════════╪══════════╪═══════════╪═══╪═══════════╪════════════╪══════╪═════════╡\n",
       "│ 2013-01-28 ┆ 31       ┆ M        ┆ Australia ┆ … ┆ 1912      ┆ 3400       ┆ 1912 ┆ 2856    │\n",
       "│ 2015-01-28 ┆ 31       ┆ M        ┆ Australia ┆ … ┆ 1912      ┆ 3400       ┆ 1912 ┆ 2856    │\n",
       "│ 2013-07-22 ┆ 31       ┆ M        ┆ Australia ┆ … ┆ 1912      ┆ 3400       ┆ 1912 ┆ 2856    │\n",
       "└────────────┴──────────┴──────────┴───────────┴───┴───────────┴────────────┴──────┴─────────┘"
      ]
     },
     "execution_count": 4,
     "metadata": {},
     "output_type": "execute_result"
    }
   ],
   "source": [
    "df.head(3)"
   ]
  },
  {
   "cell_type": "code",
   "execution_count": 5,
   "id": "fc2915c6-317b-4840-99fe-d361f9afd8ed",
   "metadata": {},
   "outputs": [
    {
     "data": {
      "text/plain": [
       "<SQLContext [tables:1] at 0x7f3bd1287610>"
      ]
     },
     "execution_count": 5,
     "metadata": {},
     "output_type": "execute_result"
    }
   ],
   "source": [
    "ctx = pl.SQLContext()\n",
    "ctx.register('df', df)"
   ]
  },
  {
   "cell_type": "code",
   "execution_count": 7,
   "id": "4caaefa2-54d4-4503-a6a6-d4beb3008cb0",
   "metadata": {},
   "outputs": [
    {
     "data": {
      "text/html": [
       "<div><style>\n",
       ".dataframe > thead > tr > th,\n",
       ".dataframe > tbody > tr > td {\n",
       "  text-align: right;\n",
       "  white-space: pre-wrap;\n",
       "}\n",
       "</style>\n",
       "<small>shape: (1, 1)</small><table border=\"1\" class=\"dataframe\"><thead><tr><th>count</th></tr><tr><td>u32</td></tr></thead><tbody><tr><td>25982</td></tr></tbody></table></div>"
      ],
      "text/plain": [
       "shape: (1, 1)\n",
       "┌───────┐\n",
       "│ count │\n",
       "│ ---   │\n",
       "│ u32   │\n",
       "╞═══════╡\n",
       "│ 25982 │\n",
       "└───────┘"
      ]
     },
     "execution_count": 7,
     "metadata": {},
     "output_type": "execute_result"
    }
   ],
   "source": [
    "ctx.execute('SELECT count(*) from df').collect()"
   ]
  },
  {
   "cell_type": "code",
   "execution_count": 18,
   "id": "fea3d51d-bdce-43a6-a832-fabb85b1a77f",
   "metadata": {},
   "outputs": [
    {
     "data": {
      "text/html": [
       "<div><style>\n",
       ".dataframe > thead > tr > th,\n",
       ".dataframe > tbody > tr > td {\n",
       "  text-align: right;\n",
       "  white-space: pre-wrap;\n",
       "}\n",
       "</style>\n",
       "<small>shape: (3, 2)</small><table border=\"1\" class=\"dataframe\"><thead><tr><th>sub category</th><th>total</th></tr><tr><td>str</td><td>u32</td></tr></thead><tbody><tr><td>&quot;Road Bikes&quot;</td><td>13430</td></tr><tr><td>&quot;Mountain Bikes…</td><td>8854</td></tr><tr><td>&quot;Touring Bikes&quot;</td><td>3698</td></tr></tbody></table></div>"
      ],
      "text/plain": [
       "shape: (3, 2)\n",
       "┌────────────────┬───────┐\n",
       "│ sub category   ┆ total │\n",
       "│ ---            ┆ ---   │\n",
       "│ str            ┆ u32   │\n",
       "╞════════════════╪═══════╡\n",
       "│ Road Bikes     ┆ 13430 │\n",
       "│ Mountain Bikes ┆ 8854  │\n",
       "│ Touring Bikes  ┆ 3698  │\n",
       "└────────────────┴───────┘"
      ]
     },
     "execution_count": 18,
     "metadata": {},
     "output_type": "execute_result"
    }
   ],
   "source": [
    "ctx.execute(\"\"\"\n",
    "select \"sub category\", count(*) as total\n",
    "from df \n",
    "group by \"sub category\"\n",
    "order by total desc\n",
    "\"\"\"\n",
    ").collect()"
   ]
  },
  {
   "cell_type": "code",
   "execution_count": 14,
   "id": "0bb4b65d-4b43-4174-858e-77d2319e9650",
   "metadata": {},
   "outputs": [
    {
     "data": {
      "text/html": [
       "<div><style>\n",
       ".dataframe > thead > tr > th,\n",
       ".dataframe > tbody > tr > td {\n",
       "  text-align: right;\n",
       "  white-space: pre-wrap;\n",
       "}\n",
       "</style>\n",
       "<small>shape: (3, 2)</small><table border=\"1\" class=\"dataframe\"><thead><tr><th>sub category</th><th>count</th></tr><tr><td>str</td><td>u32</td></tr></thead><tbody><tr><td>&quot;Road Bikes&quot;</td><td>13430</td></tr><tr><td>&quot;Mountain Bikes…</td><td>8854</td></tr><tr><td>&quot;Touring Bikes&quot;</td><td>3698</td></tr></tbody></table></div>"
      ],
      "text/plain": [
       "shape: (3, 2)\n",
       "┌────────────────┬───────┐\n",
       "│ sub category   ┆ count │\n",
       "│ ---            ┆ ---   │\n",
       "│ str            ┆ u32   │\n",
       "╞════════════════╪═══════╡\n",
       "│ Road Bikes     ┆ 13430 │\n",
       "│ Mountain Bikes ┆ 8854  │\n",
       "│ Touring Bikes  ┆ 3698  │\n",
       "└────────────────┴───────┘"
      ]
     },
     "execution_count": 14,
     "metadata": {},
     "output_type": "execute_result"
    }
   ],
   "source": [
    "(\n",
    "    df\n",
    "    .group_by('sub category')\n",
    "    .agg(pl.count())\n",
    "    .sort('count', descending=True)\n",
    ")"
   ]
  },
  {
   "cell_type": "code",
   "execution_count": 36,
   "id": "df58ca02-d86a-4669-bf7d-6b9056784117",
   "metadata": {},
   "outputs": [
    {
     "data": {
      "image/png": "[encoded data removed]",
      "text/plain": [
       "<Figure size 640x480 with 1 Axes>"
      ]
     },
     "metadata": {},
     "output_type": "display_data"
    }
   ],
   "source": [
    "(\n",
    "    df.\n",
    "    group_by('country').\n",
    "    agg(pl.count()).\n",
    "    sort('count', descending=True).\n",
    "    to_pandas().\n",
    "    set_index('country').\n",
    "    plot(kind='bar',xlabel='')\n",
    ");"
   ]
  },
  {
   "cell_type": "code",
   "execution_count": 32,
   "id": "62d44e56-adb0-46c1-9a6b-1c1d72947b2e",
   "metadata": {},
   "outputs": [
    {
     "data": {
      "text/html": [
       "<div><style>\n",
       ".dataframe > thead > tr > th,\n",
       ".dataframe > tbody > tr > td {\n",
       "  text-align: right;\n",
       "  white-space: pre-wrap;\n",
       "}\n",
       "</style>\n",
       "<small>shape: (6, 2)</small><table border=\"1\" class=\"dataframe\"><thead><tr><th>country</th><th>count</th></tr><tr><td>str</td><td>u32</td></tr></thead><tbody><tr><td>&quot;Germany&quot;</td><td>3048</td></tr><tr><td>&quot;United States&quot;</td><td>8028</td></tr><tr><td>&quot;Canada&quot;</td><td>1548</td></tr><tr><td>&quot;Australia&quot;</td><td>7064</td></tr><tr><td>&quot;France&quot;</td><td>2770</td></tr><tr><td>&quot;United Kingdom…</td><td>3524</td></tr></tbody></table></div>"
      ],
      "text/plain": [
       "shape: (6, 2)\n",
       "┌────────────────┬───────┐\n",
       "│ country        ┆ count │\n",
       "│ ---            ┆ ---   │\n",
       "│ str            ┆ u32   │\n",
       "╞════════════════╪═══════╡\n",
       "│ Germany        ┆ 3048  │\n",
       "│ United States  ┆ 8028  │\n",
       "│ Canada         ┆ 1548  │\n",
       "│ Australia      ┆ 7064  │\n",
       "│ France         ┆ 2770  │\n",
       "│ United Kingdom ┆ 3524  │\n",
       "└────────────────┴───────┘"
      ]
     },
     "execution_count": 32,
     "metadata": {},
     "output_type": "execute_result"
    }
   ],
   "source": [
    "df.group_by('country').agg(pl.count())"
   ]
  },
  {
   "cell_type": "code",
   "execution_count": 48,
   "id": "05358fa5-0c04-40e0-bb3d-a69f0cf5ac79",
   "metadata": {},
   "outputs": [
    {
     "data": {
      "image/png": "[encoded data removed]",
      "text/plain": [
       "<Figure size 640x480 with 1 Axes>"
      ]
     },
     "metadata": {},
     "output_type": "display_data"
    }
   ],
   "source": [
    "ax = sns.countplot(data=df, x='country',hue='sub category')\n",
    "ax.set(xlabel='', ylabel='', title='Bike Sales by Country and Type')\n",
    "plt.show();"
   ]
  },
  {
   "cell_type": "code",
   "execution_count": 51,
   "id": "c55d8701-0f41-4771-895b-3f5f001564bc",
   "metadata": {},
   "outputs": [
    {
     "data": {
      "text/html": [
       "<h4>NAIVE QUERY PLAN</h4><p>run <b>LazyFrame.show_graph()</b> to see the optimized version</p><?xml version=\"1.0\" encoding=\"UTF-8\" standalone=\"no\"?>\n",
       "<!DOCTYPE svg PUBLIC \"-//W3C//DTD SVG 1.1//EN\"\n",
       " \"http://www.w3.org/Graphics/SVG/1.1/DTD/svg11.dtd\">\n",
       "<!-- Generated by graphviz version 2.43.0 (0)\n",
       " -->\n",
       "<!-- Title: polars_query Pages: 1 -->\n",
       "<svg width=\"73pt\" height=\"133pt\"\n",
       " viewBox=\"0.00 0.00 73.00 133.00\" xmlns=\"http://www.w3.org/2000/svg\" xmlns:xlink=\"http://www.w3.org/1999/xlink\">\n",
       "<g id=\"graph0\" class=\"graph\" transform=\"scale(1 1) rotate(0) translate(4 129)\">\n",
       "<title>polars_query</title>\n",
       "<polygon fill=\"white\" stroke=\"transparent\" points=\"-4,4 -4,-129 69,-129 69,4 -4,4\"/>\n",
       "<!-- π 1/10 [(0, 0)] -->\n",
       "<g id=\"node1\" class=\"node\">\n",
       "<title>π 1/10 [(0, 0)]</title>\n",
       "<polygon fill=\"none\" stroke=\"black\" points=\"63.5,-125 1.5,-125 1.5,-89 63.5,-89 63.5,-125\"/>\n",
       "<text text-anchor=\"middle\" x=\"32.5\" y=\"-103.3\" font-family=\"Times,serif\" font-size=\"14.00\">π 1/10</text>\n",
       "</g>\n",
       "<!-- TABLE\n",
       "π */10;\n",
       "σ &#45;; [(0, 1)] -->\n",
       "<g id=\"node2\" class=\"node\">\n",
       "<title>TABLE\n",
       "π */10;\n",
       "σ &#45;; [(0, 1)]</title>\n",
       "<polygon fill=\"none\" stroke=\"black\" points=\"65,-53 0,-53 0,0 65,0 65,-53\"/>\n",
       "<text text-anchor=\"middle\" x=\"32.5\" y=\"-37.8\" font-family=\"Times,serif\" font-size=\"14.00\">TABLE</text>\n",
       "<text text-anchor=\"middle\" x=\"32.5\" y=\"-22.8\" font-family=\"Times,serif\" font-size=\"14.00\">π */10;</text>\n",
       "<text text-anchor=\"middle\" x=\"32.5\" y=\"-7.8\" font-family=\"Times,serif\" font-size=\"14.00\">σ &#45;;</text>\n",
       "</g>\n",
       "<!-- π 1/10 [(0, 0)]&#45;&#45;TABLE\n",
       "π */10;\n",
       "σ &#45;; [(0, 1)] -->\n",
       "<g id=\"edge1\" class=\"edge\">\n",
       "<title>π 1/10 [(0, 0)]&#45;&#45;TABLE\n",
       "π */10;\n",
       "σ &#45;; [(0, 1)]</title>\n",
       "<path fill=\"none\" stroke=\"black\" d=\"M32.5,-88.97C32.5,-78.51 32.5,-64.9 32.5,-53.16\"/>\n",
       "</g>\n",
       "</g>\n",
       "</svg>\n"
      ],
      "text/plain": [
       "<LazyFrame [1 col, {\"count\": UInt32}] at 0x7F3B9E6107F0>"
      ]
     },
     "execution_count": 51,
     "metadata": {},
     "output_type": "execute_result"
    }
   ],
   "source": [
    "ctx.execute(\"\"\"\n",
    "select count(*) from df\n",
    "\"\"\")"
   ]
  },
  {
   "cell_type": "code",
   "execution_count": null,
   "id": "f2f81bb6-5333-4aa0-b45c-8524a60c19d1",
   "metadata": {},
   "outputs": [],
   "source": []
  }
 ],
 "metadata": {
  "kernelspec": {
   "display_name": "Python 3 (ipykernel)",
   "language": "python",
   "name": "python3"
  },
  "language_info": {
   "codemirror_mode": {
    "name": "ipython",
    "version": 3
   },
   "file_extension": ".py",
   "mimetype": "text/x-python",
   "name": "python",
   "nbconvert_exporter": "python",
   "pygments_lexer": "ipython3",
   "version": "3.11.6"
  }
 },
 "nbformat": 4,
 "nbformat_minor": 5
}
