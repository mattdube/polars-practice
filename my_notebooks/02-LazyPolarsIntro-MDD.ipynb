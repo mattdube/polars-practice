{
 "cells": [
  {
   "cell_type": "markdown",
   "id": "20f080a3-dc1c-4af9-bf60-6779f4ecdccf",
   "metadata": {},
   "source": [
    "# Lazy mode 1: Introducing lazy mode\n",
    "By the end of this lecture you will be able to:\n",
    "- create a `LazyFrame` from a CSV file\n",
    "- explain the difference between a `DataFrame` and a `LazyFrame`\n",
    "- print the optimized query plan\n",
    "\n",
    "Lazy mode is crucial to taking full advantage of Polars with query optimisation and streaming large datasets. We introduce lazy mode in this lesson and we re-visit it again and again throughout the course.  \n",
    "\n",
    "## Code or queries?\n",
    "Data analysis often involves multiple steps:\n",
    "- loading data from a file or database\n",
    "- transforming the data\n",
    "- grouping by a column\n",
    "- ...\n",
    "\n",
    "We call this set of steps a **query**.\n",
    "\n",
    "We can write some lines of code that carry out a query step-by-step in eager mode.\n",
    "\n",
    "There are two problems with this approach:\n",
    "- Each line of code is not aware of what the others are doing.\n",
    "- Each line of code requires copying the full dataframe.\n",
    "\n",
    "We can instead write the steps as an integrated query in lazy mode.\n",
    "\n",
    "With an integrated query:\n",
    "- a query optimizer can identify efficiencies\n",
    "- a query engine can minimise the memory usage and produce a single output"
   ]
  },
  {
   "cell_type": "markdown",
   "id": "cbd4f472-c79e-4b57-ad03-ac9188059369",
   "metadata": {},
   "source": [
    "## So what are eager and lazy modes?\n",
    "\n",
    "**Eager mode**: each line of code is run as soon as it is encountered.\n",
    "\n",
    "**Lazy mode**: each line is added to a query plan and the query plan is optimized."
   ]
  },
  {
   "cell_type": "code",
   "execution_count": 1,
   "id": "35ac8a3e-bb6e-41db-a3c1-93bb7bda3b3d",
   "metadata": {
    "tags": []
   },
   "outputs": [],
   "source": [
    "import polars as pl"
   ]
  },
  {
   "cell_type": "code",
   "execution_count": 2,
   "id": "5bcf6a0c-81a7-4dc5-add5-451b3ee33442",
   "metadata": {
    "tags": []
   },
   "outputs": [],
   "source": [
    "csv_file = \"../notebooks/data/titanic.csv\""
   ]
  },
  {
   "cell_type": "markdown",
   "id": "85529268-81c8-4bc1-a339-9bb3802bc5ee",
   "metadata": {},
   "source": [
    "## `DataFrames` and `LazyFrames`\n",
    "We **read** a CSV in eager mode with `pl.read_csv`. This creates a **`DataFrame`**"
   ]
  },
  {
   "cell_type": "code",
   "execution_count": 3,
   "id": "027fb8cc-3837-497f-941d-0f9829403ac6",
   "metadata": {
    "tags": []
   },
   "outputs": [
    {
     "data": {
      "text/html": [
       "<div><style>\n",
       ".dataframe > thead > tr > th,\n",
       ".dataframe > tbody > tr > td {\n",
       "  text-align: right;\n",
       "  white-space: pre-wrap;\n",
       "}\n",
       "</style>\n",
       "<small>shape: (2, 12)</small><table border=\"1\" class=\"dataframe\"><thead><tr><th>PassengerId</th><th>Survived</th><th>Pclass</th><th>Name</th><th>Sex</th><th>Age</th><th>SibSp</th><th>Parch</th><th>Ticket</th><th>Fare</th><th>Cabin</th><th>Embarked</th></tr><tr><td>i64</td><td>i64</td><td>i64</td><td>str</td><td>str</td><td>f64</td><td>i64</td><td>i64</td><td>str</td><td>f64</td><td>str</td><td>str</td></tr></thead><tbody><tr><td>1</td><td>0</td><td>3</td><td>&quot;Braund, Mr. Ow…</td><td>&quot;male&quot;</td><td>22.0</td><td>1</td><td>0</td><td>&quot;A/5 21171&quot;</td><td>7.25</td><td>null</td><td>&quot;S&quot;</td></tr><tr><td>2</td><td>1</td><td>1</td><td>&quot;Cumings, Mrs. …</td><td>&quot;female&quot;</td><td>38.0</td><td>1</td><td>0</td><td>&quot;PC 17599&quot;</td><td>71.2833</td><td>&quot;C85&quot;</td><td>&quot;C&quot;</td></tr></tbody></table></div>"
      ],
      "text/plain": [
       "shape: (2, 12)\n",
       "┌─────────────┬──────────┬────────┬───────────────────┬───┬───────────┬─────────┬───────┬──────────┐\n",
       "│ PassengerId ┆ Survived ┆ Pclass ┆ Name              ┆ … ┆ Ticket    ┆ Fare    ┆ Cabin ┆ Embarked │\n",
       "│ ---         ┆ ---      ┆ ---    ┆ ---               ┆   ┆ ---       ┆ ---     ┆ ---   ┆ ---      │\n",
       "│ i64         ┆ i64      ┆ i64    ┆ str               ┆   ┆ str       ┆ f64     ┆ str   ┆ str      │\n",
       "╞═════════════╪══════════╪════════╪═══════════════════╪═══╪═══════════╪═════════╪═══════╪══════════╡\n",
       "│ 1           ┆ 0        ┆ 3      ┆ Braund, Mr. Owen  ┆ … ┆ A/5 21171 ┆ 7.25    ┆ null  ┆ S        │\n",
       "│             ┆          ┆        ┆ Harris            ┆   ┆           ┆         ┆       ┆          │\n",
       "│ 2           ┆ 1        ┆ 1      ┆ Cumings, Mrs.     ┆ … ┆ PC 17599  ┆ 71.2833 ┆ C85   ┆ C        │\n",
       "│             ┆          ┆        ┆ John Bradley      ┆   ┆           ┆         ┆       ┆          │\n",
       "│             ┆          ┆        ┆ (Flor…            ┆   ┆           ┆         ┆       ┆          │\n",
       "└─────────────┴──────────┴────────┴───────────────────┴───┴───────────┴─────────┴───────┴──────────┘"
      ]
     },
     "execution_count": 3,
     "metadata": {},
     "output_type": "execute_result"
    }
   ],
   "source": [
    "df_eager = pl.read_csv(csv_file)\n",
    "df_eager.head(2)"
   ]
  },
  {
   "cell_type": "markdown",
   "id": "ba4290cd-9941-4a8e-bbcc-0067b975a412",
   "metadata": {},
   "source": [
    "We **scan** a CSV in lazy mode with `pl.scan_csv`. This creates a **`LazyFrame`**"
   ]
  },
  {
   "cell_type": "code",
   "execution_count": 4,
   "id": "ee9c9dd2-0d62-481e-bce7-11fa498c316a",
   "metadata": {
    "tags": []
   },
   "outputs": [
    {
     "data": {
      "text/html": [
       "<h4>NAIVE QUERY PLAN</h4><p>run <b>LazyFrame.show_graph()</b> to see the optimized version</p><?xml version=\"1.0\" encoding=\"UTF-8\" standalone=\"no\"?>\n",
       "<!DOCTYPE svg PUBLIC \"-//W3C//DTD SVG 1.1//EN\"\n",
       " \"http://www.w3.org/Graphics/SVG/1.1/DTD/svg11.dtd\">\n",
       "<!-- Generated by graphviz version 2.43.0 (0)\n",
       " -->\n",
       "<!-- Title: polars_query Pages: 1 -->\n",
       "<svg width=\"312pt\" height=\"61pt\"\n",
       " viewBox=\"0.00 0.00 312.00 61.00\" xmlns=\"http://www.w3.org/2000/svg\" xmlns:xlink=\"http://www.w3.org/1999/xlink\">\n",
       "<g id=\"graph0\" class=\"graph\" transform=\"scale(1 1) rotate(0) translate(4 57)\">\n",
       "<title>polars_query</title>\n",
       "<polygon fill=\"white\" stroke=\"transparent\" points=\"-4,4 -4,-57 308,-57 308,4 -4,4\"/>\n",
       "<!-- [Csv SCAN ../notebooks/data/titanic.csv;\n",
       "π */12;\n",
       "σ &#45;] -->\n",
       "<g id=\"node1\" class=\"node\">\n",
       "<title>[Csv SCAN ../notebooks/data/titanic.csv;\n",
       "π */12;\n",
       "σ &#45;]</title>\n",
       "<polygon fill=\"none\" stroke=\"black\" points=\"304,-53 0,-53 0,0 304,0 304,-53\"/>\n",
       "<text text-anchor=\"middle\" x=\"152\" y=\"-37.8\" font-family=\"Times,serif\" font-size=\"14.00\">[Csv SCAN ../notebooks/data/titanic.csv;</text>\n",
       "<text text-anchor=\"middle\" x=\"152\" y=\"-22.8\" font-family=\"Times,serif\" font-size=\"14.00\">π */12;</text>\n",
       "<text text-anchor=\"middle\" x=\"152\" y=\"-7.8\" font-family=\"Times,serif\" font-size=\"14.00\">σ &#45;]</text>\n",
       "</g>\n",
       "</g>\n",
       "</svg>\n"
      ],
      "text/plain": [
       "<LazyFrame [12 cols, {\"PassengerId\": Int64 … \"Embarked\": Utf8}] at 0x7F5AC47DE460>"
      ]
     },
     "execution_count": 4,
     "metadata": {},
     "output_type": "execute_result"
    }
   ],
   "source": [
    "df_lazy = pl.scan_csv(csv_file)\n",
    "df_lazy"
   ]
  },
  {
   "cell_type": "markdown",
   "id": "5488d898-abcd-4695-b521-4710f7a84873",
   "metadata": {},
   "source": [
    "When we scan a CSV Polars:\n",
    "- opens the file \n",
    "- gets the column names as headers\n",
    "- infers the type of each column from the first 100 rows\n",
    "\n",
    "We can get the dtype schema of a `LazyFrame`. This is a mapping from column names to dtypes"
   ]
  },
  {
   "cell_type": "code",
   "execution_count": 5,
   "id": "37646c19-46ff-460e-9dde-7c19fdead937",
   "metadata": {},
   "outputs": [
    {
     "data": {
      "text/plain": [
       "{'PassengerId': Int64,\n",
       " 'Survived': Int64,\n",
       " 'Pclass': Int64,\n",
       " 'Name': Utf8,\n",
       " 'Sex': Utf8,\n",
       " 'Age': Float64,\n",
       " 'SibSp': Int64,\n",
       " 'Parch': Int64,\n",
       " 'Ticket': Utf8,\n",
       " 'Fare': Float64,\n",
       " 'Cabin': Utf8,\n",
       " 'Embarked': Utf8}"
      ]
     },
     "execution_count": 5,
     "metadata": {},
     "output_type": "execute_result"
    }
   ],
   "source": [
    "df_lazy.schema"
   ]
  },
  {
   "cell_type": "markdown",
   "id": "25882566-935f-4951-b282-0c2c1e3c9b61",
   "metadata": {},
   "source": [
    "We cannot get the shape of a `LazyFrame` as Polars does not know how many rows there are from a scan."
   ]
  },
  {
   "cell_type": "markdown",
   "id": "d86e2373-3c85-4d46-b8f0-db2e03d4800c",
   "metadata": {},
   "source": [
    "### What's the difference between a `DataFrame` and a `LazyFrame`?\n",
    "\n",
    "If we print a `DataFrame` we see data..."
   ]
  },
  {
   "cell_type": "code",
   "execution_count": 6,
   "id": "3aab6fc8-5f96-4dbd-bcde-8f8e69fcec89",
   "metadata": {
    "tags": []
   },
   "outputs": [
    {
     "data": {
      "text/html": [
       "<div><style>\n",
       ".dataframe > thead > tr > th,\n",
       ".dataframe > tbody > tr > td {\n",
       "  text-align: right;\n",
       "  white-space: pre-wrap;\n",
       "}\n",
       "</style>\n",
       "<small>shape: (2, 12)</small><table border=\"1\" class=\"dataframe\"><thead><tr><th>PassengerId</th><th>Survived</th><th>Pclass</th><th>Name</th><th>Sex</th><th>Age</th><th>SibSp</th><th>Parch</th><th>Ticket</th><th>Fare</th><th>Cabin</th><th>Embarked</th></tr><tr><td>i64</td><td>i64</td><td>i64</td><td>str</td><td>str</td><td>f64</td><td>i64</td><td>i64</td><td>str</td><td>f64</td><td>str</td><td>str</td></tr></thead><tbody><tr><td>1</td><td>0</td><td>3</td><td>&quot;Braund, Mr. Ow…</td><td>&quot;male&quot;</td><td>22.0</td><td>1</td><td>0</td><td>&quot;A/5 21171&quot;</td><td>7.25</td><td>null</td><td>&quot;S&quot;</td></tr><tr><td>2</td><td>1</td><td>1</td><td>&quot;Cumings, Mrs. …</td><td>&quot;female&quot;</td><td>38.0</td><td>1</td><td>0</td><td>&quot;PC 17599&quot;</td><td>71.2833</td><td>&quot;C85&quot;</td><td>&quot;C&quot;</td></tr></tbody></table></div>"
      ],
      "text/plain": [
       "shape: (2, 12)\n",
       "┌─────────────┬──────────┬────────┬───────────────────┬───┬───────────┬─────────┬───────┬──────────┐\n",
       "│ PassengerId ┆ Survived ┆ Pclass ┆ Name              ┆ … ┆ Ticket    ┆ Fare    ┆ Cabin ┆ Embarked │\n",
       "│ ---         ┆ ---      ┆ ---    ┆ ---               ┆   ┆ ---       ┆ ---     ┆ ---   ┆ ---      │\n",
       "│ i64         ┆ i64      ┆ i64    ┆ str               ┆   ┆ str       ┆ f64     ┆ str   ┆ str      │\n",
       "╞═════════════╪══════════╪════════╪═══════════════════╪═══╪═══════════╪═════════╪═══════╪══════════╡\n",
       "│ 1           ┆ 0        ┆ 3      ┆ Braund, Mr. Owen  ┆ … ┆ A/5 21171 ┆ 7.25    ┆ null  ┆ S        │\n",
       "│             ┆          ┆        ┆ Harris            ┆   ┆           ┆         ┆       ┆          │\n",
       "│ 2           ┆ 1        ┆ 1      ┆ Cumings, Mrs.     ┆ … ┆ PC 17599  ┆ 71.2833 ┆ C85   ┆ C        │\n",
       "│             ┆          ┆        ┆ John Bradley      ┆   ┆           ┆         ┆       ┆          │\n",
       "│             ┆          ┆        ┆ (Flor…            ┆   ┆           ┆         ┆       ┆          │\n",
       "└─────────────┴──────────┴────────┴───────────────────┴───┴───────────┴─────────┴───────┴──────────┘"
      ]
     },
     "execution_count": 6,
     "metadata": {},
     "output_type": "execute_result"
    }
   ],
   "source": [
    "df_eager.head(2)"
   ]
  },
  {
   "cell_type": "markdown",
   "id": "5150c98e-38b1-4b7a-9550-62b3ca3fb39d",
   "metadata": {},
   "source": [
    "...but if we print a `LazyFrame` we see a **query plan**\n",
    "\n",
    "**Key message: an operation on a `DataFrame` acts on the data. An operation on a `LazyFrame` acts on the query plan**.\n",
    "\n",
    "## Operations on a `DataFrame` and a `LazyFrame` \n",
    "To show the difference between operations on a `DataFrame` and a `LazyFrame` we rename the `PassengerID` column to `Id` using `rename`.\n",
    "\n",
    "On a `DataFrame` we see the first column is renamed..."
   ]
  },
  {
   "cell_type": "code",
   "execution_count": 7,
   "id": "5296491f-e7f8-4a90-b833-bfc072795f62",
   "metadata": {},
   "outputs": [
    {
     "data": {
      "text/html": [
       "<div><style>\n",
       ".dataframe > thead > tr > th,\n",
       ".dataframe > tbody > tr > td {\n",
       "  text-align: right;\n",
       "  white-space: pre-wrap;\n",
       "}\n",
       "</style>\n",
       "<small>shape: (2, 12)</small><table border=\"1\" class=\"dataframe\"><thead><tr><th>Id</th><th>Survived</th><th>Pclass</th><th>Name</th><th>Sex</th><th>Age</th><th>SibSp</th><th>Parch</th><th>Ticket</th><th>Fare</th><th>Cabin</th><th>Embarked</th></tr><tr><td>i64</td><td>i64</td><td>i64</td><td>str</td><td>str</td><td>f64</td><td>i64</td><td>i64</td><td>str</td><td>f64</td><td>str</td><td>str</td></tr></thead><tbody><tr><td>1</td><td>0</td><td>3</td><td>&quot;Braund, Mr. Ow…</td><td>&quot;male&quot;</td><td>22.0</td><td>1</td><td>0</td><td>&quot;A/5 21171&quot;</td><td>7.25</td><td>null</td><td>&quot;S&quot;</td></tr><tr><td>2</td><td>1</td><td>1</td><td>&quot;Cumings, Mrs. …</td><td>&quot;female&quot;</td><td>38.0</td><td>1</td><td>0</td><td>&quot;PC 17599&quot;</td><td>71.2833</td><td>&quot;C85&quot;</td><td>&quot;C&quot;</td></tr></tbody></table></div>"
      ],
      "text/plain": [
       "shape: (2, 12)\n",
       "┌─────┬──────────┬────────┬───────────────────────────┬───┬───────────┬─────────┬───────┬──────────┐\n",
       "│ Id  ┆ Survived ┆ Pclass ┆ Name                      ┆ … ┆ Ticket    ┆ Fare    ┆ Cabin ┆ Embarked │\n",
       "│ --- ┆ ---      ┆ ---    ┆ ---                       ┆   ┆ ---       ┆ ---     ┆ ---   ┆ ---      │\n",
       "│ i64 ┆ i64      ┆ i64    ┆ str                       ┆   ┆ str       ┆ f64     ┆ str   ┆ str      │\n",
       "╞═════╪══════════╪════════╪═══════════════════════════╪═══╪═══════════╪═════════╪═══════╪══════════╡\n",
       "│ 1   ┆ 0        ┆ 3      ┆ Braund, Mr. Owen Harris   ┆ … ┆ A/5 21171 ┆ 7.25    ┆ null  ┆ S        │\n",
       "│ 2   ┆ 1        ┆ 1      ┆ Cumings, Mrs. John        ┆ … ┆ PC 17599  ┆ 71.2833 ┆ C85   ┆ C        │\n",
       "│     ┆          ┆        ┆ Bradley (Flor…            ┆   ┆           ┆         ┆       ┆          │\n",
       "└─────┴──────────┴────────┴───────────────────────────┴───┴───────────┴─────────┴───────┴──────────┘"
      ]
     },
     "execution_count": 7,
     "metadata": {},
     "output_type": "execute_result"
    }
   ],
   "source": [
    "(\n",
    "    df_eager\n",
    "    .rename({\"PassengerId\":\"Id\"})\n",
    "    .head(2)\n",
    ")    "
   ]
  },
  {
   "cell_type": "markdown",
   "id": "06cb4ae0-32ec-4835-a310-4aef7fbbbcc0",
   "metadata": {},
   "source": [
    "while on a `LazyFrame` we see that a `RENAME` step is added the query plan"
   ]
  },
  {
   "cell_type": "code",
   "execution_count": 8,
   "id": "5e7b1130-2875-4a38-aa4a-0221bc06f349",
   "metadata": {},
   "outputs": [
    {
     "data": {
      "text/html": [
       "<h4>NAIVE QUERY PLAN</h4><p>run <b>LazyFrame.show_graph()</b> to see the optimized version</p><?xml version=\"1.0\" encoding=\"UTF-8\" standalone=\"no\"?>\n",
       "<!DOCTYPE svg PUBLIC \"-//W3C//DTD SVG 1.1//EN\"\n",
       " \"http://www.w3.org/Graphics/SVG/1.1/DTD/svg11.dtd\">\n",
       "<!-- Generated by graphviz version 2.43.0 (0)\n",
       " -->\n",
       "<!-- Title: polars_query Pages: 1 -->\n",
       "<svg width=\"307pt\" height=\"133pt\"\n",
       " viewBox=\"0.00 0.00 307.00 133.00\" xmlns=\"http://www.w3.org/2000/svg\" xmlns:xlink=\"http://www.w3.org/1999/xlink\">\n",
       "<g id=\"graph0\" class=\"graph\" transform=\"scale(1 1) rotate(0) translate(4 129)\">\n",
       "<title>polars_query</title>\n",
       "<polygon fill=\"white\" stroke=\"transparent\" points=\"-4,4 -4,-129 303,-129 303,4 -4,4\"/>\n",
       "<!-- RENAME [(0, 0)] -->\n",
       "<g id=\"node1\" class=\"node\">\n",
       "<title>RENAME [(0, 0)]</title>\n",
       "<polygon fill=\"none\" stroke=\"black\" points=\"191.5,-125 107.5,-125 107.5,-89 191.5,-89 191.5,-125\"/>\n",
       "<text text-anchor=\"middle\" x=\"149.5\" y=\"-103.3\" font-family=\"Times,serif\" font-size=\"14.00\">RENAME</text>\n",
       "</g>\n",
       "<!-- Csv SCAN ../notebooks/data/titanic.csv;\n",
       "π */12;\n",
       "σ &#45; [(0, 1)] -->\n",
       "<g id=\"node2\" class=\"node\">\n",
       "<title>Csv SCAN ../notebooks/data/titanic.csv;\n",
       "π */12;\n",
       "σ &#45; [(0, 1)]</title>\n",
       "<polygon fill=\"none\" stroke=\"black\" points=\"299,-53 0,-53 0,0 299,0 299,-53\"/>\n",
       "<text text-anchor=\"middle\" x=\"149.5\" y=\"-37.8\" font-family=\"Times,serif\" font-size=\"14.00\">Csv SCAN ../notebooks/data/titanic.csv;</text>\n",
       "<text text-anchor=\"middle\" x=\"149.5\" y=\"-22.8\" font-family=\"Times,serif\" font-size=\"14.00\">π */12;</text>\n",
       "<text text-anchor=\"middle\" x=\"149.5\" y=\"-7.8\" font-family=\"Times,serif\" font-size=\"14.00\">σ &#45;</text>\n",
       "</g>\n",
       "<!-- RENAME [(0, 0)]&#45;&#45;Csv SCAN ../notebooks/data/titanic.csv;\n",
       "π */12;\n",
       "σ &#45; [(0, 1)] -->\n",
       "<g id=\"edge1\" class=\"edge\">\n",
       "<title>RENAME [(0, 0)]&#45;&#45;Csv SCAN ../notebooks/data/titanic.csv;\n",
       "π */12;\n",
       "σ &#45; [(0, 1)]</title>\n",
       "<path fill=\"none\" stroke=\"black\" d=\"M149.5,-88.97C149.5,-78.51 149.5,-64.9 149.5,-53.16\"/>\n",
       "</g>\n",
       "</g>\n",
       "</svg>\n"
      ],
      "text/plain": [
       "<LazyFrame [12 cols, {\"Id\": Int64 … \"Embarked\": Utf8}] at 0x7F5AC4709880>"
      ]
     },
     "execution_count": 8,
     "metadata": {},
     "output_type": "execute_result"
    }
   ],
   "source": [
    "(\n",
    "    df_lazy\n",
    "    .rename({\"PassengerId\":\"Id\"})\n",
    ")    "
   ]
  },
  {
   "cell_type": "markdown",
   "id": "4896acf8-1408-454f-a9f2-a4dfe424b98d",
   "metadata": {},
   "source": [
    "## Chaining or re-assigning?\n",
    "In this course we typically run operations with method chaining like this"
   ]
  },
  {
   "cell_type": "code",
   "execution_count": 9,
   "id": "247cf557-a371-4f5c-a94c-7d51d296391f",
   "metadata": {},
   "outputs": [
    {
     "name": "stdout",
     "output_type": "stream",
     "text": [
      "RENAME\n",
      "\n",
      "    Csv SCAN ../notebooks/data/titanic.csv\n",
      "    PROJECT */12 COLUMNS\n"
     ]
    }
   ],
   "source": [
    "print(\n",
    "    pl.scan_csv(csv_file)\n",
    "    .rename({\"PassengerId\":\"Id\"})\n",
    "    .explain()\n",
    ")    "
   ]
  },
  {
   "cell_type": "markdown",
   "id": "5df3f9c2-df9e-48f2-8681-20875e68631d",
   "metadata": {},
   "source": [
    "However, we can also do operations by re-assigning the variable in each step"
   ]
  },
  {
   "cell_type": "code",
   "execution_count": null,
   "id": "7b5d0c89-1fc6-48ef-996b-81b2efdfbaf8",
   "metadata": {},
   "outputs": [],
   "source": [
    "df_lazy = pl.scan_csv(csv_file)\n",
    "df_lazy = df_lazy.rename({\"PassengerId\":\"Id\"})\n",
    "print(df_lazy.explain())"
   ]
  },
  {
   "cell_type": "markdown",
   "id": "409e4bdb-2946-44d4-95d3-de624d9ea86f",
   "metadata": {},
   "source": [
    "The two methods are equivalent"
   ]
  },
  {
   "cell_type": "markdown",
   "id": "5ca0d756-30a7-42e2-96ca-1629042b4989",
   "metadata": {},
   "source": [
    "## Query optimization\n",
    "Polars creates a *naive query plan* from your query.\n",
    "\n",
    "`Polars` passes the naive query plan to its **query optimizer**. The query optimizer looks for more efficient ways to arrive at the output you want."
   ]
  },
  {
   "cell_type": "markdown",
   "id": "9276076c-b924-40b3-9c7f-e36f3676ac9d",
   "metadata": {},
   "source": [
    "Printing the output of the `explain` method shows the optimized plan"
   ]
  },
  {
   "cell_type": "code",
   "execution_count": 10,
   "id": "4a505c32-72ca-4a15-bd77-5523d3093b32",
   "metadata": {
    "tags": []
   },
   "outputs": [
    {
     "name": "stdout",
     "output_type": "stream",
     "text": [
      "\n",
      "  Csv SCAN ../notebooks/data/titanic.csv\n",
      "  PROJECT */12 COLUMNS\n"
     ]
    }
   ],
   "source": [
    "df_lazy = pl.scan_csv(csv_file)\n",
    "print(df_lazy.explain())"
   ]
  },
  {
   "cell_type": "markdown",
   "id": "c19b0814-af01-4c72-a471-489f4554db1c",
   "metadata": {},
   "source": [
    "## What query optimizations are applied?\n",
    "Query optimizations aren't magic. Most optimizations could be implemented by users in a well-written query if the user:\n",
    "- knows the optimization exists \n",
    "- remembers to implement the optimization and \n",
    "- implements the optimization correctly!\n",
    "\n",
    "Optimizations applied by Polars include:\n",
    "- `projection pushdown` limit the number of columns read to those required\n",
    "- `predicate pushdown` apply filter conditions as early as possible\n",
    "- `combine predicates` combine multiple filter conditions\n",
    "- `slice pushdown` limit rows processed when limited rows are required\n",
    "- `common subplan elimination` run duplicated transformations on the same data once and then re-use\n",
    "\n",
    "We'll see how these optimisations arise later in the course.\n",
    "\n",
    "Polars also implements other optimisations such as fast-path algorithms on sorted data (separate from the query optimiser). "
   ]
  },
  {
   "cell_type": "markdown",
   "id": "2fab23df-8e50-41e4-994b-f9c9de70b41a",
   "metadata": {},
   "source": [
    "## Exercises\n",
    "\n",
    "In the exercises you will develop your understanding of:\n",
    "- creating a `LazyFrame` from a CSV file\n",
    "- getting metadata from a `LazyFrame`\n",
    "- printing the query plans\n",
    "\n",
    "### Exercise 1\n",
    "Create a `LazyFrame` by doing a scan of the Titanic CSV file"
   ]
  },
  {
   "cell_type": "code",
   "execution_count": 11,
   "id": "53f443c2-bd23-48c2-90c1-56b4010fc0af",
   "metadata": {
    "tags": []
   },
   "outputs": [],
   "source": [
    "df = pl.scan_csv(csv_file)"
   ]
  },
  {
   "cell_type": "markdown",
   "id": "44af8e79-770c-467c-922f-621bdbde8823",
   "metadata": {},
   "source": [
    "Use the fetch statement and count how many rows it returns by default"
   ]
  },
  {
   "cell_type": "code",
   "execution_count": 13,
   "id": "da382c5b-af3e-4c11-b4fa-0ab26dec6b4b",
   "metadata": {
    "tags": []
   },
   "outputs": [
    {
     "data": {
      "text/plain": [
       "(500, 12)"
      ]
     },
     "execution_count": 13,
     "metadata": {},
     "output_type": "execute_result"
    }
   ],
   "source": [
    "df.fetch().shape"
   ]
  },
  {
   "cell_type": "markdown",
   "id": "3b3c97f2-b985-4a22-859e-9e51ca1667ca",
   "metadata": {},
   "source": [
    "Check to see which of the following metadata you can get from a `LazyFrame`:\n",
    "- number of rows\n",
    "- column names\n",
    "- schema"
   ]
  },
  {
   "cell_type": "markdown",
   "id": "305dbf31-92c2-469b-b35e-236282ff89c8",
   "metadata": {},
   "source": [
    "## Solutions\n",
    "\n",
    "### Solution to Exercise 1"
   ]
  },
  {
   "cell_type": "code",
   "execution_count": null,
   "id": "7f59b064-909a-42bc-b43c-0a75d4ae165c",
   "metadata": {
    "tags": []
   },
   "outputs": [],
   "source": [
    "df = pl.scan_csv(csv_file)"
   ]
  },
  {
   "cell_type": "code",
   "execution_count": null,
   "id": "2a0ae92f-64bf-4859-99c3-336d2c5535fd",
   "metadata": {
    "jupyter": {
     "source_hidden": true
    },
    "tags": []
   },
   "outputs": [],
   "source": [
    "df.fetch().shape"
   ]
  },
  {
   "cell_type": "markdown",
   "id": "3ecc464d-e1df-4321-9959-410ce37efb12",
   "metadata": {},
   "source": [
    "A `LazyFrame` does not know the number of rows in a CSV"
   ]
  },
  {
   "cell_type": "code",
   "execution_count": null,
   "id": "40d0ce15-2063-4b3f-996c-72a743dc8ed7",
   "metadata": {
    "jupyter": {
     "source_hidden": true
    },
    "tags": []
   },
   "outputs": [],
   "source": [
    "df.shape"
   ]
  },
  {
   "cell_type": "markdown",
   "id": "89d52f99-509c-455c-9348-53dc56ef6ff0",
   "metadata": {},
   "source": [
    "A `LazyFrame` does know the column names. As we will see in the I/O section `Polars` scans the first row of the CSV file to get column names in `pl.scan_csv`"
   ]
  },
  {
   "cell_type": "code",
   "execution_count": 14,
   "id": "1b20cd34-2a75-49bd-88ae-2d950fb9e663",
   "metadata": {
    "jupyter": {
     "source_hidden": true
    },
    "tags": []
   },
   "outputs": [
    {
     "data": {
      "text/plain": [
       "['PassengerId',\n",
       " 'Survived',\n",
       " 'Pclass',\n",
       " 'Name',\n",
       " 'Sex',\n",
       " 'Age',\n",
       " 'SibSp',\n",
       " 'Parch',\n",
       " 'Ticket',\n",
       " 'Fare',\n",
       " 'Cabin',\n",
       " 'Embarked']"
      ]
     },
     "execution_count": 14,
     "metadata": {},
     "output_type": "execute_result"
    }
   ],
   "source": [
    "df.columns"
   ]
  },
  {
   "cell_type": "code",
   "execution_count": 15,
   "id": "f8f25fcd-124d-4ba6-bdc5-f037756caff0",
   "metadata": {
    "jupyter": {
     "source_hidden": true
    },
    "tags": []
   },
   "outputs": [
    {
     "data": {
      "text/plain": [
       "{'PassengerId': Int64,\n",
       " 'Survived': Int64,\n",
       " 'Pclass': Int64,\n",
       " 'Name': Utf8,\n",
       " 'Sex': Utf8,\n",
       " 'Age': Float64,\n",
       " 'SibSp': Int64,\n",
       " 'Parch': Int64,\n",
       " 'Ticket': Utf8,\n",
       " 'Fare': Float64,\n",
       " 'Cabin': Utf8,\n",
       " 'Embarked': Utf8}"
      ]
     },
     "execution_count": 15,
     "metadata": {},
     "output_type": "execute_result"
    }
   ],
   "source": [
    "df.schema"
   ]
  },
  {
   "cell_type": "code",
   "execution_count": null,
   "id": "e4163841",
   "metadata": {},
   "outputs": [],
   "source": []
  }
 ],
 "metadata": {
  "kernelspec": {
   "display_name": "Python 3 (ipykernel)",
   "language": "python",
   "name": "python3"
  },
  "language_info": {
   "codemirror_mode": {
    "name": "ipython",
    "version": 3
   },
   "file_extension": ".py",
   "mimetype": "text/x-python",
   "name": "python",
   "nbconvert_exporter": "python",
   "pygments_lexer": "ipython3",
   "version": "3.9.16"
  }
 },
 "nbformat": 4,
 "nbformat_minor": 5
}
