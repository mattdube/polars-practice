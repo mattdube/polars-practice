{
 "cells": [
  {
   "cell_type": "code",
   "execution_count": 1,
   "metadata": {},
   "outputs": [],
   "source": [
    "from datetime import datetime\n",
    "\n",
    "import numpy as np\n",
    "import polars as pl\n",
    "from pathlib import Path\n",
    "from polars import col, lit\n",
    "import pandas as pd\n",
    "from pandas.io.common import get_handle"
   ]
  },
  {
   "cell_type": "code",
   "execution_count": 4,
   "metadata": {},
   "outputs": [
    {
     "name": "stdout",
     "output_type": "stream",
     "text": [
      "polars:0.17.14\n",
      "pandas: 2.0.1\n"
     ]
    }
   ],
   "source": [
    "print(f'polars:{pl.__version__}')\n",
    "print(f'pandas: {pd.__version__}')"
   ]
  },
  {
   "cell_type": "code",
   "execution_count": 11,
   "metadata": {},
   "outputs": [],
   "source": [
    "# Eager execution\n",
    "edf = pl.read_csv(\"data/star2002-full.csv\", has_header=False)"
   ]
  },
  {
   "cell_type": "code",
   "execution_count": 12,
   "metadata": {},
   "outputs": [
    {
     "data": {
      "text/html": [
       "<div><style>\n",
       ".dataframe > thead > tr > th,\n",
       ".dataframe > tbody > tr > td {\n",
       "  text-align: right;\n",
       "}\n",
       "</style>\n",
       "<small>shape: (5, 1)</small><table border=\"1\" class=\"dataframe\"><thead><tr><th>column_9</th></tr><tr><td>i64</td></tr></thead><tbody><tr><td>654</td></tr><tr><td>61</td></tr><tr><td>7</td></tr><tr><td>27</td></tr><tr><td>1</td></tr></tbody></table></div>"
      ],
      "text/plain": [
       "shape: (5, 1)\n",
       "┌──────────┐\n",
       "│ column_9 │\n",
       "│ ---      │\n",
       "│ i64      │\n",
       "╞══════════╡\n",
       "│ 654      │\n",
       "│ 61       │\n",
       "│ 7        │\n",
       "│ 27       │\n",
       "│ 1        │\n",
       "└──────────┘"
      ]
     },
     "execution_count": 12,
     "metadata": {},
     "output_type": "execute_result"
    }
   ],
   "source": [
    "edf.filter(col(\"column_1\") == 1).select([\"column_9\"]).head()"
   ]
  },
  {
   "cell_type": "code",
   "execution_count": 15,
   "metadata": {},
   "outputs": [],
   "source": [
    "ldf = pl.scan_csv(\"data/star2002-full.csv\", has_header=False)"
   ]
  },
  {
   "cell_type": "code",
   "execution_count": 16,
   "metadata": {},
   "outputs": [
    {
     "data": {
      "text/html": [
       "<div><style>\n",
       ".dataframe > thead > tr > th,\n",
       ".dataframe > tbody > tr > td {\n",
       "  text-align: right;\n",
       "}\n",
       "</style>\n",
       "<small>shape: (5, 1)</small><table border=\"1\" class=\"dataframe\"><thead><tr><th>column_9</th></tr><tr><td>i64</td></tr></thead><tbody><tr><td>654</td></tr><tr><td>61</td></tr><tr><td>7</td></tr><tr><td>27</td></tr><tr><td>1</td></tr></tbody></table></div>"
      ],
      "text/plain": [
       "shape: (5, 1)\n",
       "┌──────────┐\n",
       "│ column_9 │\n",
       "│ ---      │\n",
       "│ i64      │\n",
       "╞══════════╡\n",
       "│ 654      │\n",
       "│ 61       │\n",
       "│ 7        │\n",
       "│ 27       │\n",
       "│ 1        │\n",
       "└──────────┘"
      ]
     },
     "execution_count": 16,
     "metadata": {},
     "output_type": "execute_result"
    }
   ],
   "source": [
    "ldf.filter(col(\"column_1\") == 1).select([\"column_9\"]).head().collect()"
   ]
  },
  {
   "cell_type": "code",
   "execution_count": 18,
   "metadata": {},
   "outputs": [
    {
     "data": {
      "text/html": [
       "<div><style>\n",
       ".dataframe > thead > tr > th,\n",
       ".dataframe > tbody > tr > td {\n",
       "  text-align: right;\n",
       "}\n",
       "</style>\n",
       "<small>shape: (1, 16)</small><table border=\"1\" class=\"dataframe\"><thead><tr><th>column_1</th><th>column_2</th><th>column_3</th><th>column_4</th><th>column_5</th><th>column_6</th><th>column_7</th><th>column_8</th><th>column_9</th><th>column_10</th><th>column_11</th><th>column_12</th><th>column_13</th><th>column_14</th><th>column_15</th><th>column_16</th></tr><tr><td>i64</td><td>i64</td><td>i64</td><td>f64</td><td>i64</td><td>i64</td><td>i64</td><td>i64</td><td>i64</td><td>i64</td><td>f64</td><td>f64</td><td>i64</td><td>f64</td><td>f64</td><td>f64</td></tr></thead><tbody><tr><td>1</td><td>1613423</td><td>808</td><td>2.0011e7</td><td>1613424</td><td>886</td><td>0</td><td>0</td><td>61</td><td>371</td><td>2.0011e7</td><td>23.326479</td><td>2288071</td><td>-0.24733</td><td>0.455916</td><td>57.810596</td></tr></tbody></table></div>"
      ],
      "text/plain": [
       "shape: (1, 16)\n",
       "┌──────────┬──────────┬──────────┬──────────┬───┬───────────┬───────────┬───────────┬───────────┐\n",
       "│ column_1 ┆ column_2 ┆ column_3 ┆ column_4 ┆ … ┆ column_13 ┆ column_14 ┆ column_15 ┆ column_16 │\n",
       "│ ---      ┆ ---      ┆ ---      ┆ ---      ┆   ┆ ---       ┆ ---       ┆ ---       ┆ ---       │\n",
       "│ i64      ┆ i64      ┆ i64      ┆ f64      ┆   ┆ i64       ┆ f64       ┆ f64       ┆ f64       │\n",
       "╞══════════╪══════════╪══════════╪══════════╪═══╪═══════════╪═══════════╪═══════════╪═══════════╡\n",
       "│ 1        ┆ 1613423  ┆ 808      ┆ 2.0011e7 ┆ … ┆ 2288071   ┆ -0.24733  ┆ 0.455916  ┆ 57.810596 │\n",
       "└──────────┴──────────┴──────────┴──────────┴───┴───────────┴───────────┴───────────┴───────────┘"
      ]
     },
     "execution_count": 18,
     "metadata": {},
     "output_type": "execute_result"
    }
   ],
   "source": [
    "# slice by row number\n",
    "edf[1]"
   ]
  },
  {
   "cell_type": "code",
   "execution_count": 19,
   "metadata": {},
   "outputs": [
    {
     "data": {
      "text/html": [
       "<div><style>\n",
       ".dataframe > thead > tr > th,\n",
       ".dataframe > tbody > tr > td {\n",
       "  text-align: right;\n",
       "}\n",
       "</style>\n",
       "<small>shape: (1, 16)</small><table border=\"1\" class=\"dataframe\"><thead><tr><th>column_1</th><th>column_2</th><th>column_3</th><th>column_4</th><th>column_5</th><th>column_6</th><th>column_7</th><th>column_8</th><th>column_9</th><th>column_10</th><th>column_11</th><th>column_12</th><th>column_13</th><th>column_14</th><th>column_15</th><th>column_16</th></tr><tr><td>i64</td><td>i64</td><td>i64</td><td>f64</td><td>i64</td><td>i64</td><td>i64</td><td>i64</td><td>i64</td><td>i64</td><td>f64</td><td>f64</td><td>i64</td><td>f64</td><td>f64</td><td>f64</td></tr></thead><tbody><tr><td>1</td><td>1613423</td><td>808</td><td>2.0011e7</td><td>1613424</td><td>886</td><td>0</td><td>0</td><td>61</td><td>371</td><td>2.0011e7</td><td>23.326479</td><td>2288071</td><td>-0.24733</td><td>0.455916</td><td>57.810596</td></tr></tbody></table></div>"
      ],
      "text/plain": [
       "shape: (1, 16)\n",
       "┌──────────┬──────────┬──────────┬──────────┬───┬───────────┬───────────┬───────────┬───────────┐\n",
       "│ column_1 ┆ column_2 ┆ column_3 ┆ column_4 ┆ … ┆ column_13 ┆ column_14 ┆ column_15 ┆ column_16 │\n",
       "│ ---      ┆ ---      ┆ ---      ┆ ---      ┆   ┆ ---       ┆ ---       ┆ ---       ┆ ---       │\n",
       "│ i64      ┆ i64      ┆ i64      ┆ f64      ┆   ┆ i64       ┆ f64       ┆ f64       ┆ f64       │\n",
       "╞══════════╪══════════╪══════════╪══════════╪═══╪═══════════╪═══════════╪═══════════╪═══════════╡\n",
       "│ 1        ┆ 1613423  ┆ 808      ┆ 2.0011e7 ┆ … ┆ 2288071   ┆ -0.24733  ┆ 0.455916  ┆ 57.810596 │\n",
       "└──────────┴──────────┴──────────┴──────────┴───┴───────────┴───────────┴───────────┴───────────┘"
      ]
     },
     "execution_count": 19,
     "metadata": {},
     "output_type": "execute_result"
    }
   ],
   "source": [
    "edf[[1]]"
   ]
  },
  {
   "cell_type": "code",
   "execution_count": 20,
   "metadata": {},
   "outputs": [
    {
     "data": {
      "text/plain": [
       "20011015.222604"
      ]
     },
     "execution_count": 20,
     "metadata": {},
     "output_type": "execute_result"
    }
   ],
   "source": [
    "edf[1, \"column_4\"]"
   ]
  },
  {
   "cell_type": "code",
   "execution_count": 21,
   "metadata": {},
   "outputs": [
    {
     "data": {
      "text/html": [
       "<div><style>\n",
       ".dataframe > thead > tr > th,\n",
       ".dataframe > tbody > tr > td {\n",
       "  text-align: right;\n",
       "}\n",
       "</style>\n",
       "<small>shape: (1, 2)</small><table border=\"1\" class=\"dataframe\"><thead><tr><th>column_3</th><th>column_4</th></tr><tr><td>i64</td><td>f64</td></tr></thead><tbody><tr><td>808</td><td>2.0011e7</td></tr></tbody></table></div>"
      ],
      "text/plain": [
       "shape: (1, 2)\n",
       "┌──────────┬──────────┐\n",
       "│ column_3 ┆ column_4 │\n",
       "│ ---      ┆ ---      │\n",
       "│ i64      ┆ f64      │\n",
       "╞══════════╪══════════╡\n",
       "│ 808      ┆ 2.0011e7 │\n",
       "└──────────┴──────────┘"
      ]
     },
     "execution_count": 21,
     "metadata": {},
     "output_type": "execute_result"
    }
   ],
   "source": [
    "edf[1, [2,3]]  # index by (row, column) but returns data frame"
   ]
  },
  {
   "cell_type": "code",
   "execution_count": 22,
   "metadata": {},
   "outputs": [
    {
     "data": {
      "text/html": [
       "<div><style>\n",
       ".dataframe > thead > tr > th,\n",
       ".dataframe > tbody > tr > td {\n",
       "  text-align: right;\n",
       "}\n",
       "</style>\n",
       "<small>shape: (3, 13)</small><table border=\"1\" class=\"dataframe\"><thead><tr><th>column_4</th><th>column_5</th><th>column_6</th><th>column_7</th><th>column_8</th><th>column_9</th><th>column_10</th><th>column_11</th><th>column_12</th><th>column_13</th><th>column_14</th><th>column_15</th><th>column_16</th></tr><tr><td>f64</td><td>i64</td><td>i64</td><td>i64</td><td>i64</td><td>i64</td><td>i64</td><td>f64</td><td>f64</td><td>i64</td><td>f64</td><td>f64</td><td>f64</td></tr></thead><tbody><tr><td>2.0011e7</td><td>1613424</td><td>886</td><td>0</td><td>0</td><td>61</td><td>371</td><td>2.0011e7</td><td>23.326479</td><td>2288071</td><td>-0.24733</td><td>0.455916</td><td>57.810596</td></tr><tr><td>2.0011e7</td><td>1613424</td><td>638</td><td>0</td><td>0</td><td>7</td><td>121</td><td>2.0011e7</td><td>2.4442992</td><td>2288071</td><td>-0.390961</td><td>0.589534</td><td>167.75714</td></tr><tr><td>2.0011e7</td><td>1613424</td><td>4259</td><td>0</td><td>0</td><td>1024</td><td>1302</td><td>2.0011e7</td><td>9.5218678</td><td>2288071</td><td>-0.290154</td><td>0.446027</td><td>8.6443624</td></tr></tbody></table></div>"
      ],
      "text/plain": [
       "shape: (3, 13)\n",
       "┌──────────┬──────────┬──────────┬──────────┬───┬───────────┬───────────┬───────────┬───────────┐\n",
       "│ column_4 ┆ column_5 ┆ column_6 ┆ column_7 ┆ … ┆ column_13 ┆ column_14 ┆ column_15 ┆ column_16 │\n",
       "│ ---      ┆ ---      ┆ ---      ┆ ---      ┆   ┆ ---       ┆ ---       ┆ ---       ┆ ---       │\n",
       "│ f64      ┆ i64      ┆ i64      ┆ i64      ┆   ┆ i64       ┆ f64       ┆ f64       ┆ f64       │\n",
       "╞══════════╪══════════╪══════════╪══════════╪═══╪═══════════╪═══════════╪═══════════╪═══════════╡\n",
       "│ 2.0011e7 ┆ 1613424  ┆ 886      ┆ 0        ┆ … ┆ 2288071   ┆ -0.24733  ┆ 0.455916  ┆ 57.810596 │\n",
       "│ 2.0011e7 ┆ 1613424  ┆ 638      ┆ 0        ┆ … ┆ 2288071   ┆ -0.390961 ┆ 0.589534  ┆ 167.75714 │\n",
       "│ 2.0011e7 ┆ 1613424  ┆ 4259     ┆ 0        ┆ … ┆ 2288071   ┆ -0.290154 ┆ 0.446027  ┆ 8.6443624 │\n",
       "└──────────┴──────────┴──────────┴──────────┴───┴───────────┴───────────┴───────────┴───────────┘"
      ]
     },
     "execution_count": 22,
     "metadata": {},
     "output_type": "execute_result"
    }
   ],
   "source": [
    "# slice by row and column's name\n",
    "edf[1:4, \"column_4\":]"
   ]
  },
  {
   "cell_type": "code",
   "execution_count": 27,
   "metadata": {},
   "outputs": [
    {
     "data": {
      "text/html": [
       "<div><style>\n",
       ".dataframe > thead > tr > th,\n",
       ".dataframe > tbody > tr > td {\n",
       "  text-align: right;\n",
       "}\n",
       "</style>\n",
       "<small>shape: (5, 16)</small><table border=\"1\" class=\"dataframe\"><thead><tr><th>column_1</th><th>column_2</th><th>column_3</th><th>column_4</th><th>column_5</th><th>column_6</th><th>column_7</th><th>column_8</th><th>column_9</th><th>column_10</th><th>column_11</th><th>column_12</th><th>column_13</th><th>column_14</th><th>column_15</th><th>column_16</th></tr><tr><td>i64</td><td>i64</td><td>i64</td><td>f64</td><td>i64</td><td>i64</td><td>i64</td><td>i64</td><td>i64</td><td>i64</td><td>f64</td><td>f64</td><td>i64</td><td>f64</td><td>f64</td><td>f64</td></tr></thead><tbody><tr><td>1</td><td>1613423</td><td>808</td><td>2.0011e7</td><td>1613424</td><td>886</td><td>0</td><td>0</td><td>61</td><td>371</td><td>2.0011e7</td><td>23.326479</td><td>2288071</td><td>-0.24733</td><td>0.455916</td><td>57.810596</td></tr><tr><td>1</td><td>1647391</td><td>44306</td><td>2.0011e7</td><td>1647392</td><td>886</td><td>0</td><td>0</td><td>105</td><td>354</td><td>2.0011e7</td><td>17.984346</td><td>2318011</td><td>-0.141247</td><td>0.313153</td><td>56.570755</td></tr><tr><td>1</td><td>1645260</td><td>57473</td><td>2.0011e7</td><td>1645261</td><td>886</td><td>0</td><td>0</td><td>20</td><td>172</td><td>2.0011e7</td><td>22.391867</td><td>2318011</td><td>-0.318725</td><td>0.457583</td><td>171.50362</td></tr><tr><td>1</td><td>1721465</td><td>11764</td><td>2.0011e7</td><td>1721466</td><td>886</td><td>0</td><td>0</td><td>63</td><td>326</td><td>2.0020e7</td><td>3.2333431</td><td>2288073</td><td>-0.266839</td><td>0.268181</td><td>-100.37051</td></tr><tr><td>1</td><td>1721101</td><td>4166</td><td>2.0011e7</td><td>1721102</td><td>886</td><td>0</td><td>0</td><td>54</td><td>328</td><td>2.0020e7</td><td>8.2055445</td><td>2288073</td><td>-0.157688</td><td>0.434548</td><td>-82.486473</td></tr></tbody></table></div>"
      ],
      "text/plain": [
       "shape: (5, 16)\n",
       "┌──────────┬──────────┬──────────┬──────────┬───┬───────────┬───────────┬───────────┬────────────┐\n",
       "│ column_1 ┆ column_2 ┆ column_3 ┆ column_4 ┆ … ┆ column_13 ┆ column_14 ┆ column_15 ┆ column_16  │\n",
       "│ ---      ┆ ---      ┆ ---      ┆ ---      ┆   ┆ ---       ┆ ---       ┆ ---       ┆ ---        │\n",
       "│ i64      ┆ i64      ┆ i64      ┆ f64      ┆   ┆ i64       ┆ f64       ┆ f64       ┆ f64        │\n",
       "╞══════════╪══════════╪══════════╪══════════╪═══╪═══════════╪═══════════╪═══════════╪════════════╡\n",
       "│ 1        ┆ 1613423  ┆ 808      ┆ 2.0011e7 ┆ … ┆ 2288071   ┆ -0.24733  ┆ 0.455916  ┆ 57.810596  │\n",
       "│ 1        ┆ 1647391  ┆ 44306    ┆ 2.0011e7 ┆ … ┆ 2318011   ┆ -0.141247 ┆ 0.313153  ┆ 56.570755  │\n",
       "│ 1        ┆ 1645260  ┆ 57473    ┆ 2.0011e7 ┆ … ┆ 2318011   ┆ -0.318725 ┆ 0.457583  ┆ 171.50362  │\n",
       "│ 1        ┆ 1721465  ┆ 11764    ┆ 2.0011e7 ┆ … ┆ 2288073   ┆ -0.266839 ┆ 0.268181  ┆ -100.37051 │\n",
       "│ 1        ┆ 1721101  ┆ 4166     ┆ 2.0011e7 ┆ … ┆ 2288073   ┆ -0.157688 ┆ 0.434548  ┆ -82.486473 │\n",
       "└──────────┴──────────┴──────────┴──────────┴───┴───────────┴───────────┴───────────┴────────────┘"
      ]
     },
     "execution_count": 27,
     "metadata": {},
     "output_type": "execute_result"
    }
   ],
   "source": [
    "ldf.filter(\n",
    "\tpl.col('column_6') == 886\n",
    ").filter(\n",
    "    pl.col('column_1') == 1\n",
    ").head().collect()"
   ]
  },
  {
   "cell_type": "code",
   "execution_count": null,
   "metadata": {},
   "outputs": [],
   "source": []
  }
 ],
 "metadata": {
  "kernelspec": {
   "display_name": "polars-book",
   "language": "python",
   "name": "python3"
  },
  "language_info": {
   "codemirror_mode": {
    "name": "ipython",
    "version": 3
   },
   "file_extension": ".py",
   "mimetype": "text/x-python",
   "name": "python",
   "nbconvert_exporter": "python",
   "pygments_lexer": "ipython3",
   "version": "3.10.11"
  },
  "orig_nbformat": 4
 },
 "nbformat": 4,
 "nbformat_minor": 2
}
