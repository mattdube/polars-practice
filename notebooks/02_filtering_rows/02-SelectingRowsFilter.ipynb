{
 "cells": [
  {
   "cell_type": "markdown",
   "id": "b06a7473-8d52-4c0d-b469-37add3272a53",
   "metadata": {},
   "source": [
    "# Filtering rows 2: Using `filter` and the Expression API\n",
    "\n",
    "By the end of this lecture you will be able to:\n",
    "- select rows with the `filter` method\n",
    "- add a row number column\n",
    "- paritioning a `DataFrame`\n",
    "\n",
    "The `filter` method is our first example of the *Expression API*.\n",
    "\n",
    "_**Learning to use the *Expression API* is the most important step to writing high performance queries in Polars**_\n"
   ]
  },
  {
   "cell_type": "code",
   "execution_count": null,
   "id": "9fd758ec-0727-4c1e-87ae-04fd47b267b6",
   "metadata": {
    "tags": []
   },
   "outputs": [],
   "source": [
    "import polars as pl"
   ]
  },
  {
   "cell_type": "code",
   "execution_count": null,
   "id": "43c1d48b-a1cc-4374-bfd5-83817c491923",
   "metadata": {
    "tags": []
   },
   "outputs": [],
   "source": [
    "csvFile = \"../data/titanic.csv\""
   ]
  },
  {
   "cell_type": "code",
   "execution_count": null,
   "id": "23ec4b89-5819-4654-a3c8-d43a7a7b31fd",
   "metadata": {
    "tags": []
   },
   "outputs": [],
   "source": [
    "df = pl.read_csv(csvFile)\n",
    "df.head(3)"
   ]
  },
  {
   "cell_type": "markdown",
   "id": "c7ee8c91-cfd2-42a4-8c15-cc0e6a2215f7",
   "metadata": {},
   "source": [
    "## Selecting rows with `filter`\n",
    "\n",
    "We first use an *expression* in the `filter` method before we examine the syntax in more detail.\n",
    "\n",
    "In this example we choose all the first class passengers."
   ]
  },
  {
   "cell_type": "code",
   "execution_count": null,
   "id": "565f8f0e-b6de-4f03-8bba-e347eb96588b",
   "metadata": {
    "tags": []
   },
   "outputs": [],
   "source": [
    "(\n",
    "    df\n",
    "    .filter(\n",
    "        pl.col('Pclass') == 1\n",
    "    )\n",
    "    .head(2)\n",
    ")"
   ]
  },
  {
   "cell_type": "markdown",
   "id": "4bcfcb0f-cf3e-4103-90a9-7091f4fc4052",
   "metadata": {},
   "source": [
    "## Syntax of `filter`\n",
    "Inside the `filter` method we pass our first _**expression**_ and apply a Boolean condition to it:\n",
    "\n",
    "`pl.col('Pclass') == 1`\n",
    "\n",
    "This expression has two parts:\n",
    "- `pl.col('Pclass')` expression selects the `Pclass` column from `df`\n",
    "- `== 1` applies a Boolean condition to this expression\n",
    "\n",
    "In this example we choose all rows with the number of parents & children (`Parch`) is greater than 1"
   ]
  },
  {
   "cell_type": "code",
   "execution_count": null,
   "id": "0ed1dc92-b8e0-42f2-b624-14c354bc6455",
   "metadata": {
    "tags": []
   },
   "outputs": [],
   "source": [
    "(\n",
    "    df\n",
    "    .filter(\n",
    "        pl.col('Parch') > 1\n",
    "    )\n",
    "    .head(2)\n",
    ")"
   ]
  },
  {
   "cell_type": "markdown",
   "id": "35866eff-f510-4e13-a430-4993bc9150f1",
   "metadata": {},
   "source": [
    "As well as the mathemtical operators such as `==`,`>`,`<` there are also text operators that some people find more readable"
   ]
  },
  {
   "cell_type": "code",
   "execution_count": null,
   "id": "b32bd407-96b9-455e-a247-0154e7755846",
   "metadata": {},
   "outputs": [],
   "source": [
    "(\n",
    "    df\n",
    "    .filter(\n",
    "        pl.col('Parch').gt(1)\n",
    "    )\n",
    "    .head(3)\n",
    ")"
   ]
  },
  {
   "cell_type": "markdown",
   "id": "3ccf15f0-7180-4cd1-b743-39b3caa0deb4",
   "metadata": {},
   "source": [
    "You can see the operators here: https://pola-rs.github.io/polars/py-polars/html/reference/expressions/operators.html"
   ]
  },
  {
   "cell_type": "markdown",
   "id": "47f0e9d4-25d5-4c0b-b30d-44669af6ebb0",
   "metadata": {},
   "source": [
    "## Use cases of `[]` and `filter`\n",
    "\n",
    "In general we use `filter` to apply a condition. In Polars you cannot filter using `[]` with a Boolean mask so the following will raise an `Exception`:\n",
    "```python\n",
    "df[df[\"Parch\"] > 1]\n",
    "```\n",
    "\n",
    "The `[]` approach is primarily for selecting data by row number. This might be when inspecting data in interactive mode or retrieving a value at the end of a query"
   ]
  },
  {
   "cell_type": "markdown",
   "id": "981c0392-3dbe-4f89-b0ae-d71d92f782ba",
   "metadata": {},
   "source": [
    "### Conditions based on row numbers with `filter`\n",
    "\n",
    "We can add an explicit row number column using `with_row_count` on a `DataFrame`"
   ]
  },
  {
   "cell_type": "code",
   "execution_count": null,
   "id": "37a1d007-a652-4e0c-9685-18821d7b6e89",
   "metadata": {
    "tags": []
   },
   "outputs": [],
   "source": [
    "df = pl.read_csv(csvFile)\n",
    "df = df.with_row_count(name='row_nr')\n",
    "df.head(3)"
   ]
  },
  {
   "cell_type": "markdown",
   "id": "db593ef1-e1c0-4480-93cb-75a3ff3779ef",
   "metadata": {},
   "source": [
    "We can then use `filter` to apply a condition based on row number"
   ]
  },
  {
   "cell_type": "code",
   "execution_count": null,
   "id": "570a7939-eb47-4723-968e-1e0ce0b618fe",
   "metadata": {
    "tags": []
   },
   "outputs": [],
   "source": [
    "(\n",
    "    df\n",
    "    .filter(\n",
    "        pl.col('row_nr') < 4\n",
    "    )\n",
    ")"
   ]
  },
  {
   "cell_type": "markdown",
   "id": "3273d154-5e53-4bc4-9257-6abc976e028a",
   "metadata": {},
   "source": [
    "### Filtering on a Boolean column\n",
    "We can filter for `True` values on a Boolean column by passing the column as an expression to `filter`"
   ]
  },
  {
   "cell_type": "code",
   "execution_count": null,
   "id": "e064b1ec-7326-4ae3-8ca3-32d5222ad019",
   "metadata": {},
   "outputs": [],
   "source": [
    "(\n",
    "    df\n",
    "    .with_columns(\n",
    "        less_than_30 = pl.col(\"Age\") < 30\n",
    "    )\n",
    "    .filter(\n",
    "        pl.col(\"less_than_30\")\n",
    "    )\n",
    "    .head(2)\n",
    ")"
   ]
  },
  {
   "cell_type": "markdown",
   "id": "bd3ae2e0-32df-404e-9718-f9856a1feb98",
   "metadata": {},
   "source": [
    "We can negate a filter with `~`"
   ]
  },
  {
   "cell_type": "code",
   "execution_count": null,
   "id": "58adc663-d33b-42e0-879e-37018fd1c45c",
   "metadata": {},
   "outputs": [],
   "source": [
    "(\n",
    "    df\n",
    "    .with_columns(\n",
    "        less_than_30 = pl.col(\"Age\") < 30\n",
    "    )\n",
    "    .filter(\n",
    "        ~pl.col(\"less_than_30\")\n",
    "    )\n",
    "    .head(2)\n",
    ")"
   ]
  },
  {
   "cell_type": "markdown",
   "id": "cab5457b-d2cb-4d73-9e06-be8d7ac55a31",
   "metadata": {},
   "source": [
    "## Partitioning a `DataFrame`\n",
    "In some cases we want to filter on one or more columns repeatedly. \n",
    "\n",
    "For example, when I create an interactive visualisation app I have a dropdown box to select different subsets of the `DataFrame`. In this case it can be useful to make a dictionary mapping from the values in the filter column(s) to the subset of the `DataFrame`.\n",
    "\n",
    "We can do this partition into sub-`DataFrames` with the `partition_by` method "
   ]
  },
  {
   "cell_type": "code",
   "execution_count": null,
   "id": "235df744-0515-4432-9be8-03dd26fb3a54",
   "metadata": {},
   "outputs": [],
   "source": [
    "df_pclass_dict = (\n",
    "    df\n",
    "    .partition_by(\"Pclass\",as_dict=True)\n",
    ")"
   ]
  },
  {
   "cell_type": "markdown",
   "id": "87729a08-8f01-4c72-b9cb-e7974ae497dc",
   "metadata": {},
   "source": [
    "The output is a python `dict` mapping from the unique values in `Pclass` to the sub-`DataFrame` for each class. This requires copying the rows in `df` to new sub-`DataFrames`.\n",
    "\n",
    "Note that if we don't pass the `as_dict=True` argument we get a python `list` of sub-`DataFrames`.\n",
    "\n",
    "We can get the rows with first class passengers from this `dict`"
   ]
  },
  {
   "cell_type": "code",
   "execution_count": null,
   "id": "581ee34b-c1d8-43f7-b67a-5ba0cd2b52d7",
   "metadata": {},
   "outputs": [],
   "source": [
    "df_pclass_dict[1].head(2)"
   ]
  },
  {
   "cell_type": "markdown",
   "id": "ac2d8ad6-7078-4053-a08d-1b768a687a58",
   "metadata": {},
   "source": [
    "## Filter in lazy mode\n",
    "Create a `LazyFrame` by scanning the CSV and adding a `filter` operation"
   ]
  },
  {
   "cell_type": "code",
   "execution_count": null,
   "id": "96975434-b32b-4413-b2d7-7b9ed9dedd7e",
   "metadata": {},
   "outputs": [],
   "source": [
    "(\n",
    "    pl.scan_csv(csvFile)\n",
    "    .filter(pl.col(\"Age\") > 30)\n",
    ")"
   ]
  },
  {
   "cell_type": "markdown",
   "id": "d41c6c91-e075-424e-a62b-4eec700c6b92",
   "metadata": {},
   "source": [
    "When we print the optimized plan we see the `filter` operation after the CSV is scanned"
   ]
  },
  {
   "cell_type": "code",
   "execution_count": null,
   "id": "80cf265d-9076-4b80-bce3-ef630da8ec4d",
   "metadata": {},
   "outputs": [],
   "source": [
    "print(\n",
    "    pl.scan_csv(csvFile)\n",
    "    .filter(pl.col(\"Age\") > 30)\n",
    "    .explain()\n",
    ")"
   ]
  },
  {
   "cell_type": "markdown",
   "id": "2ec62383-f9d4-4aab-babe-06af0b794449",
   "metadata": {},
   "source": [
    "We see that Polars reads the CSV and then applies the filter.\n",
    "\n",
    "If we set `streaming=True` in `explain` we see that the `filter` operation is inside the \n",
    "```\n",
    "--- PIPELINE\n",
    "--- END PIPELINE\n",
    "```\n",
    "part of the query plan - this means that Polars can do this filter operation in streaming mode if we evaluate the lazy query with `.collect(streaming=True)`"
   ]
  },
  {
   "cell_type": "code",
   "execution_count": null,
   "id": "f99ac8e6-cf58-4a2a-aa5b-5f748ae50ef9",
   "metadata": {},
   "outputs": [],
   "source": [
    "print(\n",
    "    pl.scan_csv(csvFile)\n",
    "    .filter(pl.col(\"Age\") > 30)\n",
    "    .explain(streaming=True)\n",
    ")"
   ]
  },
  {
   "cell_type": "markdown",
   "id": "94787c49-833d-4b79-9efe-301d49511ec1",
   "metadata": {},
   "source": [
    "# Exercises\n",
    "In the exercises you will develop your understanding of\n",
    "- using the `filter` method\n",
    "- adding a row number column\n",
    "- partitioning a `DataFrame`"
   ]
  },
  {
   "cell_type": "markdown",
   "id": "7e114028-cf26-4773-9078-1e68d9221b50",
   "metadata": {},
   "source": [
    "### Exercise 1 \n",
    "Select all rows where `Age` is greater than 30"
   ]
  },
  {
   "cell_type": "code",
   "execution_count": null,
   "id": "3979c416-8da6-44cc-8408-a5930159bdd4",
   "metadata": {
    "tags": []
   },
   "outputs": [],
   "source": [
    "(\n",
    "    pl.read_csv(csvFile)\n",
    "    <blank>\n",
    ")"
   ]
  },
  {
   "cell_type": "markdown",
   "id": "cb7e9d33-78c0-4dc5-bc1c-e5216aa32538",
   "metadata": {},
   "source": [
    "Select all rows where `Embarked` is equal to \"C\" - use the text operator rather than the mathematical operator for this"
   ]
  },
  {
   "cell_type": "code",
   "execution_count": null,
   "id": "ce5acd5f-ac19-45e2-9d1c-611ce2b7b289",
   "metadata": {},
   "outputs": [],
   "source": [
    "(\n",
    "    pl.read_csv(csvFile)\n",
    "    <blank>\n",
    ")"
   ]
  },
  {
   "cell_type": "markdown",
   "id": "638d7719-579c-421d-8643-13fc3c43c7d0",
   "metadata": {},
   "source": [
    "### Exercise 2 \n",
    "\n",
    "In this exercise we filter on row numbers.\n",
    "\n",
    "First add a row number column"
   ]
  },
  {
   "cell_type": "code",
   "execution_count": null,
   "id": "1ba4e8a1-981d-44ed-b34e-1b54d889c5d1",
   "metadata": {
    "tags": []
   },
   "outputs": [],
   "source": [
    "(\n",
    "    pl.read_csv(csvFile)\n",
    "    <blank>\n",
    ")"
   ]
  },
  {
   "cell_type": "markdown",
   "id": "f5ad5471-a7dd-4771-8a4d-40868b27e15f",
   "metadata": {},
   "source": [
    "Continue by selecting the first 5 rows using `filter` on the row number column"
   ]
  },
  {
   "cell_type": "code",
   "execution_count": null,
   "id": "6a660dae-bf35-4958-83d8-5a629cf55fd7",
   "metadata": {
    "tags": []
   },
   "outputs": [],
   "source": []
  },
  {
   "cell_type": "markdown",
   "id": "a0e033ec-772a-4dd5-9f05-9726b6462dc6",
   "metadata": {},
   "source": [
    "### Exercise 3\n",
    "Partition the `DataFrame` by the `Survived` and `Pclass` columns as a `dict` (you may want to check the API docs for help: https://pola-rs.github.io/polars/py-polars/html/reference/dataframe/api/polars.DataFrame.partition_by.html#polars.DataFrame.partition_by)"
   ]
  },
  {
   "cell_type": "code",
   "execution_count": null,
   "id": "0069c78d-855e-48ae-a8e6-601f5e07d28d",
   "metadata": {},
   "outputs": [],
   "source": [
    "survived_pclass_dict = (\n",
    "    pl.read_csv(csvFile)\n",
    "    <blank>\n",
    ")"
   ]
  },
  {
   "cell_type": "markdown",
   "id": "bdaa4dbb-fd67-4c99-af7d-cd59b64097ea",
   "metadata": {},
   "source": [
    "Return the sub-`DataFrame` with the passengers who did not survive from the third class"
   ]
  },
  {
   "cell_type": "code",
   "execution_count": null,
   "id": "dfeaf8f4-0ec1-433e-84ef-b4cfaca01778",
   "metadata": {},
   "outputs": [],
   "source": []
  },
  {
   "cell_type": "markdown",
   "id": "acd99200-37a9-4b7c-a2d8-25625290a26c",
   "metadata": {},
   "source": [
    "## Solutions\n",
    "\n",
    "### Solution to Exercise 1\n",
    "Select all rows with `Age` greater than 30"
   ]
  },
  {
   "cell_type": "code",
   "execution_count": null,
   "id": "76586b11-4e98-4d97-a043-71932d85de84",
   "metadata": {
    "jupyter": {
     "source_hidden": true
    },
    "tags": []
   },
   "outputs": [],
   "source": [
    "(\n",
    "    pl.read_csv(csvFile)\n",
    "    .filter(pl.col('Age') > 30)\n",
    "    .head(3)\n",
    ")"
   ]
  },
  {
   "cell_type": "markdown",
   "id": "bc49cd90-a8e6-41b7-951b-2c752fc00c36",
   "metadata": {},
   "source": [
    "### Solution to Exercise 2\n",
    "Add a row number column"
   ]
  },
  {
   "cell_type": "code",
   "execution_count": null,
   "id": "d40af2d5-1553-4553-8b83-079a7969bdea",
   "metadata": {
    "jupyter": {
     "source_hidden": true
    },
    "tags": []
   },
   "outputs": [],
   "source": [
    "(\n",
    "    pl.read_csv(csvFile)\n",
    "    .with_row_count(\"row_nr\")\n",
    ")"
   ]
  },
  {
   "cell_type": "markdown",
   "id": "e597abf1-29dc-47e9-8431-0c2179f7c9ed",
   "metadata": {},
   "source": [
    "Continue by selecting the first 5 rows using `filter` on the row number column"
   ]
  },
  {
   "cell_type": "code",
   "execution_count": null,
   "id": "6181aa22-0bf3-4f7b-b9a4-edcfbd6ba237",
   "metadata": {
    "jupyter": {
     "source_hidden": true
    },
    "tags": []
   },
   "outputs": [],
   "source": [
    "(\n",
    "    pl.read_csv(csvFile)\n",
    "    .with_row_count(\"row_nr\")\n",
    "    .filter(pl.col(\"row_nr\")<5)\n",
    ")"
   ]
  },
  {
   "cell_type": "markdown",
   "id": "767da988-98d6-40b3-b01b-02e196fcbe37",
   "metadata": {},
   "source": [
    "### Solution to Exercise 3\n",
    "Partition the `DataFrame` by the `Survived` and `Pclass` columns as a `dict`"
   ]
  },
  {
   "cell_type": "code",
   "execution_count": null,
   "id": "fc8a0aa1-7209-40b9-b122-d49ae5c29960",
   "metadata": {
    "jupyter": {
     "source_hidden": true
    }
   },
   "outputs": [],
   "source": [
    "survived_pclass_dict = (\n",
    "    pl.read_csv(csvFile)\n",
    "    .partition_by(\"Survived\",\"Pclass\",as_dict=True)\n",
    ")"
   ]
  },
  {
   "cell_type": "code",
   "execution_count": null,
   "id": "f9b32085-75c7-47e2-a807-c3bb2bcf7267",
   "metadata": {
    "jupyter": {
     "source_hidden": true
    }
   },
   "outputs": [],
   "source": [
    "survived_pclass_dict.keys()"
   ]
  },
  {
   "cell_type": "markdown",
   "id": "1a247bed-d736-4dc1-9026-6b0039b21261",
   "metadata": {},
   "source": [
    "Return the sub-`DataFrame` with the passengers who did not survive from the third class"
   ]
  },
  {
   "cell_type": "code",
   "execution_count": null,
   "id": "99104b75-24a0-4670-8829-2b75f8ab7b77",
   "metadata": {},
   "outputs": [],
   "source": [
    "(\n",
    "    survived_pclass_dict[(0,3)]\n",
    "    .head(2)\n",
    ")"
   ]
  }
 ],
 "metadata": {
  "kernelspec": {
   "display_name": "Python 3 (ipykernel)",
   "language": "python",
   "name": "python3"
  },
  "language_info": {
   "codemirror_mode": {
    "name": "ipython",
    "version": 3
   },
   "file_extension": ".py",
   "mimetype": "text/x-python",
   "name": "python",
   "nbconvert_exporter": "python",
   "pygments_lexer": "ipython3",
   "version": "3.10.1"
  }
 },
 "nbformat": 4,
 "nbformat_minor": 5
}
