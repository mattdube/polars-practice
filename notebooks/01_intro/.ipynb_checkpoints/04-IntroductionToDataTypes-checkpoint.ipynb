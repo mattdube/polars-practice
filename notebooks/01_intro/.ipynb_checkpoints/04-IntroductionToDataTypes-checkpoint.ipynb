{
 "cells": [
  {
   "cell_type": "markdown",
   "id": "674913ae-6d37-4d8f-882c-ae2a95292a43",
   "metadata": {},
   "source": [
    "# Introduction to Data Types\n",
    "By the end of this lecture you will be able to:\n",
    "- get the data type schema of a `DataFrame`\n",
    "- get the data type of a `Series`\n",
    "- explain the relationship between Polars and Apache Arrow\n",
    "\n",
    "\n",
    "We look at the different data types in more detail in the Section on Data types and missing values."
   ]
  },
  {
   "cell_type": "code",
   "execution_count": 1,
   "id": "a350b0f1-ff14-4097-94a2-a4f937b89fcd",
   "metadata": {
    "tags": []
   },
   "outputs": [],
   "source": [
    "import polars as pl"
   ]
  },
  {
   "cell_type": "code",
   "execution_count": 2,
   "id": "ee7a4ca2-4a74-41c0-8640-501a2f16a6e6",
   "metadata": {
    "tags": []
   },
   "outputs": [],
   "source": [
    "csvFile = \"../data/titanic.csv\""
   ]
  },
  {
   "cell_type": "code",
   "execution_count": 3,
   "id": "a1c1b14e-6642-43ec-8185-2e0924d8ca85",
   "metadata": {
    "tags": []
   },
   "outputs": [
    {
     "data": {
      "text/html": [
       "<div><style>\n",
       ".dataframe > thead > tr > th,\n",
       ".dataframe > tbody > tr > td {\n",
       "  text-align: right;\n",
       "  white-space: pre-wrap;\n",
       "}\n",
       "</style>\n",
       "<small>shape: (3, 12)</small><table border=\"1\" class=\"dataframe\"><thead><tr><th>PassengerId</th><th>Survived</th><th>Pclass</th><th>Name</th><th>Sex</th><th>Age</th><th>SibSp</th><th>Parch</th><th>Ticket</th><th>Fare</th><th>Cabin</th><th>Embarked</th></tr><tr><td>i64</td><td>i64</td><td>i64</td><td>str</td><td>str</td><td>f64</td><td>i64</td><td>i64</td><td>str</td><td>f64</td><td>str</td><td>str</td></tr></thead><tbody><tr><td>1</td><td>0</td><td>3</td><td>&quot;Braund, Mr. Ow…</td><td>&quot;male&quot;</td><td>22.0</td><td>1</td><td>0</td><td>&quot;A/5 21171&quot;</td><td>7.25</td><td>null</td><td>&quot;S&quot;</td></tr><tr><td>2</td><td>1</td><td>1</td><td>&quot;Cumings, Mrs. …</td><td>&quot;female&quot;</td><td>38.0</td><td>1</td><td>0</td><td>&quot;PC 17599&quot;</td><td>71.2833</td><td>&quot;C85&quot;</td><td>&quot;C&quot;</td></tr><tr><td>3</td><td>1</td><td>3</td><td>&quot;Heikkinen, Mis…</td><td>&quot;female&quot;</td><td>26.0</td><td>0</td><td>0</td><td>&quot;STON/O2. 31012…</td><td>7.925</td><td>null</td><td>&quot;S&quot;</td></tr></tbody></table></div>"
      ],
      "text/plain": [
       "shape: (3, 12)\n",
       "┌─────────────┬──────────┬────────┬───────────────────┬───┬───────────┬─────────┬───────┬──────────┐\n",
       "│ PassengerId ┆ Survived ┆ Pclass ┆ Name              ┆ … ┆ Ticket    ┆ Fare    ┆ Cabin ┆ Embarked │\n",
       "│ ---         ┆ ---      ┆ ---    ┆ ---               ┆   ┆ ---       ┆ ---     ┆ ---   ┆ ---      │\n",
       "│ i64         ┆ i64      ┆ i64    ┆ str               ┆   ┆ str       ┆ f64     ┆ str   ┆ str      │\n",
       "╞═════════════╪══════════╪════════╪═══════════════════╪═══╪═══════════╪═════════╪═══════╪══════════╡\n",
       "│ 1           ┆ 0        ┆ 3      ┆ Braund, Mr. Owen  ┆ … ┆ A/5 21171 ┆ 7.25    ┆ null  ┆ S        │\n",
       "│             ┆          ┆        ┆ Harris            ┆   ┆           ┆         ┆       ┆          │\n",
       "│ 2           ┆ 1        ┆ 1      ┆ Cumings, Mrs.     ┆ … ┆ PC 17599  ┆ 71.2833 ┆ C85   ┆ C        │\n",
       "│             ┆          ┆        ┆ John Bradley      ┆   ┆           ┆         ┆       ┆          │\n",
       "│             ┆          ┆        ┆ (Flor…            ┆   ┆           ┆         ┆       ┆          │\n",
       "│ 3           ┆ 1        ┆ 3      ┆ Heikkinen, Miss.  ┆ … ┆ STON/O2.  ┆ 7.925   ┆ null  ┆ S        │\n",
       "│             ┆          ┆        ┆ Laina             ┆   ┆ 3101282   ┆         ┆       ┆          │\n",
       "└─────────────┴──────────┴────────┴───────────────────┴───┴───────────┴─────────┴───────┴──────────┘"
      ]
     },
     "execution_count": 3,
     "metadata": {},
     "output_type": "execute_result"
    }
   ],
   "source": [
    "df = pl.read_csv(csvFile)\n",
    "df.head(3)"
   ]
  },
  {
   "cell_type": "markdown",
   "id": "731ff417-4da4-4121-bc46-a80835f423bc",
   "metadata": {},
   "source": [
    "## Data type schema\n",
    "\n",
    "Every column in a `DataFrame` has a data type called a `dtype`.\n",
    "\n",
    "You can get a `dict` that maps column names to dtypes with the `.schema` attribute"
   ]
  },
  {
   "cell_type": "code",
   "execution_count": 4,
   "id": "330d8400-a4cb-4020-85d4-9ed663e99d66",
   "metadata": {
    "tags": []
   },
   "outputs": [
    {
     "data": {
      "text/plain": [
       "OrderedDict([('PassengerId', Int64),\n",
       "             ('Survived', Int64),\n",
       "             ('Pclass', Int64),\n",
       "             ('Name', Utf8),\n",
       "             ('Sex', Utf8),\n",
       "             ('Age', Float64),\n",
       "             ('SibSp', Int64),\n",
       "             ('Parch', Int64),\n",
       "             ('Ticket', Utf8),\n",
       "             ('Fare', Float64),\n",
       "             ('Cabin', Utf8),\n",
       "             ('Embarked', Utf8)])"
      ]
     },
     "execution_count": 4,
     "metadata": {},
     "output_type": "execute_result"
    }
   ],
   "source": [
    "df.schema"
   ]
  },
  {
   "cell_type": "markdown",
   "id": "b7c9d084-18b7-4604-8628-35a73fa57a18",
   "metadata": {},
   "source": [
    "There is also a `dtypes` attribute (as in Pandas). However, this gives a `list` of dtypes with no column names"
   ]
  },
  {
   "cell_type": "code",
   "execution_count": 5,
   "id": "d723eaef-e948-410d-b108-c3ae9acc9ea9",
   "metadata": {
    "tags": []
   },
   "outputs": [
    {
     "data": {
      "text/plain": [
       "[Int64,\n",
       " Int64,\n",
       " Int64,\n",
       " Utf8,\n",
       " Utf8,\n",
       " Float64,\n",
       " Int64,\n",
       " Int64,\n",
       " Utf8,\n",
       " Float64,\n",
       " Utf8,\n",
       " Utf8]"
      ]
     },
     "execution_count": 5,
     "metadata": {},
     "output_type": "execute_result"
    }
   ],
   "source": [
    "df.dtypes"
   ]
  },
  {
   "cell_type": "markdown",
   "id": "10dd4917-18e1-472f-a943-9ca369047d32",
   "metadata": {},
   "source": [
    "A `Series` also has a data type attribute"
   ]
  },
  {
   "cell_type": "code",
   "execution_count": 6,
   "id": "350e16ff-e27b-485f-a978-641dbb846f96",
   "metadata": {
    "tags": []
   },
   "outputs": [
    {
     "data": {
      "text/plain": [
       "Utf8"
      ]
     },
     "execution_count": 6,
     "metadata": {},
     "output_type": "execute_result"
    }
   ],
   "source": [
    "df['Name'].dtype"
   ]
  },
  {
   "cell_type": "markdown",
   "id": "ba54ff62-ebcf-4773-aaab-7899378b63cf",
   "metadata": {},
   "source": [
    "## Apache Arrow\n",
    "\n",
    "A Pandas `DataFrame` has underlying Numpy arrays where the data is stored. In Polars the data is stored in an Arrow Table. \n",
    "\n",
    "We can see this Arrow Table by calling `to_arrow` - this is a cheap operation as it is just accessing the underlying data"
   ]
  },
  {
   "cell_type": "code",
   "execution_count": 7,
   "id": "1512cf66-861b-49cc-b5b2-e14876b3a2ad",
   "metadata": {},
   "outputs": [
    {
     "data": {
      "text/plain": [
       "pyarrow.Table\n",
       "PassengerId: int64\n",
       "Survived: int64\n",
       "Pclass: int64\n",
       "Name: large_string\n",
       "Sex: large_string\n",
       "Age: double\n",
       "SibSp: int64\n",
       "Parch: int64\n",
       "Ticket: large_string\n",
       "Fare: double\n",
       "Cabin: large_string\n",
       "Embarked: large_string\n",
       "----\n",
       "PassengerId: [[1,2,3,4,5,...,887,888,889,890,891]]\n",
       "Survived: [[0,1,1,1,0,...,0,1,0,1,0]]\n",
       "Pclass: [[3,1,3,1,3,...,2,1,3,1,3]]\n",
       "Name: [[\"Braund, Mr. Owen Harris\",\"Cumings, Mrs. John Bradley (Florence Briggs Thayer)\",\"Heikkinen, Miss. Laina\",\"Futrelle, Mrs. Jacques Heath (Lily May Peel)\",\"Allen, Mr. William Henry\",...,\"Montvila, Rev. Juozas\",\"Graham, Miss. Margaret Edith\",\"Johnston, Miss. Catherine Helen \"Carrie\"\",\"Behr, Mr. Karl Howell\",\"Dooley, Mr. Patrick\"]]\n",
       "Sex: [[\"male\",\"female\",\"female\",\"female\",\"male\",...,\"male\",\"female\",\"female\",\"male\",\"male\"]]\n",
       "Age: [[22,38,26,35,35,...,27,19,null,26,32]]\n",
       "SibSp: [[1,1,0,1,0,...,0,0,1,0,0]]\n",
       "Parch: [[0,0,0,0,0,...,0,0,2,0,0]]\n",
       "Ticket: [[\"A/5 21171\",\"PC 17599\",\"STON/O2. 3101282\",\"113803\",\"373450\",...,\"211536\",\"112053\",\"W./C. 6607\",\"111369\",\"370376\"]]\n",
       "Fare: [[7.25,71.2833,7.925,53.1,8.05,...,13,30,23.45,30,7.75]]\n",
       "..."
      ]
     },
     "execution_count": 7,
     "metadata": {},
     "output_type": "execute_result"
    }
   ],
   "source": [
    "df.to_arrow()"
   ]
  },
  {
   "cell_type": "markdown",
   "id": "6ed3f2f3-a24f-4a99-b4fc-2a0df13c305a",
   "metadata": {},
   "source": [
    "### What is Apache Arrow?\n",
    "Apache Arrow is an open source cross-language project to store tabular data in-memory. Apache Arrow is both:\n",
    "- a specificiation for how data should be represented in memory\n",
    "- a set of libraries in different languages that implement that specification\n",
    "\n",
    "Polars uses the implementation of the Arrow specification from the Rust library [Arrow2](https://docs.rs/arrow2/latest/arrow2/)\n",
    "\n",
    "### Why does `Polars` use `Apache Arrow`?\n",
    "Arrow allows for:\n",
    "- sharing data without copying (\"zero-copy\")\n",
    "- faster vectorised calculations\n",
    "- working with larger-than-memory data in chunks\n",
    "- consistent representation of missing data\n",
    "\n",
    "Overall, Polars can process data more quickly and with less memory usage because of Arrow.\n",
    "\n",
    "### How do we use Arrow in practice?\n",
    "In practice **we rarely need to deal with Arrow directly** - Polars handles that for us.\n",
    "\n",
    "The main time I call `to_arrow` are when passing data to another library that supports Arrow. This can allow us to pass data between libraries without copying. \n",
    "\n",
    "For example, [in this blog post I show how you can pass data from Polars to XGBoost by calling `to_arrow`](https://www.rhosignal.com/posts/polars-arrow-xgboost/)\n",
    "\n",
    "### So what is a Polars `DataFrame`?\n",
    "One important consequence of using Arrow is that a Polars `DataFrame` doesn't hold data directly. Instead a Polars `DataFrame` holds references to an Arrow table.\n",
    "\n",
    "One consequence is that when we add a new column using `with_columns` (see the Selecting and Transforming dataframes section for more) we create a new `DataFrame`"
   ]
  },
  {
   "cell_type": "code",
   "execution_count": null,
   "id": "855b75c9-02e2-4539-8f04-d89f7ee4c2ad",
   "metadata": {
    "tags": []
   },
   "outputs": [],
   "source": [
    "(\n",
    "    df\n",
    "    .with_columns(\n",
    "        pl.lit(0).alias(\"zeroes\")\n",
    "    )\n",
    ")"
   ]
  },
  {
   "cell_type": "markdown",
   "id": "d023860a-c6c0-4059-9b03-7984dccab7cc",
   "metadata": {},
   "source": [
    "However, creating a new `DataFrame` is a **cheap** operation as we are not copying the existing data to the new `DataFrame` - we are just copying **references** to the existing data along with the reference to the new column "
   ]
  },
  {
   "cell_type": "markdown",
   "id": "79e3ba51-b738-4c99-9186-39b5104e9f30",
   "metadata": {
    "collapsed": true,
    "jupyter": {
     "outputs_hidden": true
    },
    "tags": []
   },
   "source": [
    "## Exercises\n",
    "In the exercises you will develop your understanding of:\n",
    "- getting the dtypes of a `DataFrame`\n",
    "- getting the dtypes of a `Series`\n",
    "\n",
    "### Exercise 1 \n",
    "\n",
    "What are the dtypes of this `DataFrame`?"
   ]
  },
  {
   "cell_type": "code",
   "execution_count": 11,
   "id": "62401a6d-8351-4c4e-930b-84502c7945f8",
   "metadata": {
    "tags": []
   },
   "outputs": [
    {
     "data": {
      "text/plain": [
       "OrderedDict([('a', Int64), ('b', Float64)])"
      ]
     },
     "execution_count": 11,
     "metadata": {},
     "output_type": "execute_result"
    }
   ],
   "source": [
    "df = pl.DataFrame({'a':[0,1,2],'b':[0,1,2.0]})\n",
    "df.schema"
   ]
  },
  {
   "cell_type": "markdown",
   "id": "13f5e0c9-3f43-46c1-b987-d6c564db754b",
   "metadata": {},
   "source": [
    "### Exercise 2\n",
    "Create a `Series` by selecting the `a` column of `df`"
   ]
  },
  {
   "cell_type": "code",
   "execution_count": 12,
   "id": "31132b0e-dd18-4b3d-9ef3-96765cf36720",
   "metadata": {
    "tags": []
   },
   "outputs": [],
   "source": [
    "df = pl.DataFrame({'a':[0,1,2],'b':[0,1,2.0]})"
   ]
  },
  {
   "cell_type": "code",
   "execution_count": 21,
   "id": "f9616f26-62a8-448d-8c0f-c85f757c6216",
   "metadata": {},
   "outputs": [
    {
     "data": {
      "text/html": [
       "<div><style>\n",
       ".dataframe > thead > tr > th,\n",
       ".dataframe > tbody > tr > td {\n",
       "  text-align: right;\n",
       "  white-space: pre-wrap;\n",
       "}\n",
       "</style>\n",
       "<small>shape: (3,)</small><table border=\"1\" class=\"dataframe\"><thead><tr><th>a</th></tr><tr><td>i64</td></tr></thead><tbody><tr><td>0</td></tr><tr><td>1</td></tr><tr><td>2</td></tr></tbody></table></div>"
      ],
      "text/plain": [
       "shape: (3,)\n",
       "Series: 'a' [i64]\n",
       "[\n",
       "\t0\n",
       "\t1\n",
       "\t2\n",
       "]"
      ]
     },
     "execution_count": 21,
     "metadata": {},
     "output_type": "execute_result"
    }
   ],
   "source": [
    "df['a']"
   ]
  },
  {
   "cell_type": "code",
   "execution_count": 22,
   "id": "aec59f6a-3670-4721-9bf8-9b3066f726d7",
   "metadata": {},
   "outputs": [
    {
     "data": {
      "text/html": [
       "<div><style>\n",
       ".dataframe > thead > tr > th,\n",
       ".dataframe > tbody > tr > td {\n",
       "  text-align: right;\n",
       "  white-space: pre-wrap;\n",
       "}\n",
       "</style>\n",
       "<small>shape: (3,)</small><table border=\"1\" class=\"dataframe\"><thead><tr><th>a</th></tr><tr><td>i64</td></tr></thead><tbody><tr><td>0</td></tr><tr><td>1</td></tr><tr><td>2</td></tr></tbody></table></div>"
      ],
      "text/plain": [
       "shape: (3,)\n",
       "Series: 'a' [i64]\n",
       "[\n",
       "\t0\n",
       "\t1\n",
       "\t2\n",
       "]"
      ]
     },
     "execution_count": 22,
     "metadata": {},
     "output_type": "execute_result"
    }
   ],
   "source": [
    "df.select('a').to_series().head(3)"
   ]
  },
  {
   "cell_type": "markdown",
   "id": "86b23da0-1b97-4505-bffe-ddffa73c3843",
   "metadata": {},
   "source": [
    "What is the dtype of `a`?\n",
    "What is the dtype of `b`?"
   ]
  },
  {
   "cell_type": "markdown",
   "id": "eeb8821a-8e1a-4686-aed1-229329c515f7",
   "metadata": {},
   "source": [
    "## Solutions\n",
    "\n",
    "### Solution to Exercise 1\n",
    "What are the dtypes of this `DataFrame`?"
   ]
  },
  {
   "cell_type": "code",
   "execution_count": null,
   "id": "b53002fb-546b-407c-9551-fe7c73a5cdf3",
   "metadata": {
    "jupyter": {
     "source_hidden": true
    },
    "tags": []
   },
   "outputs": [],
   "source": [
    "df = pl.DataFrame({'a':[0,1,2],'b':[0,1,2.0]})\n",
    "df.schema"
   ]
  },
  {
   "cell_type": "markdown",
   "id": "7839739f-9354-4d77-b0ea-bb8a1540a5ff",
   "metadata": {},
   "source": [
    "### Solution to Exercise 2\n",
    "Create a `Series` by selecting the `a` column of `df`"
   ]
  },
  {
   "cell_type": "code",
   "execution_count": null,
   "id": "d0f790ea-4ab7-43db-a587-a653620fc91e",
   "metadata": {
    "jupyter": {
     "source_hidden": true
    },
    "tags": []
   },
   "outputs": [],
   "source": [
    "df = pl.DataFrame({'a':[0,1,2],'b':[0,1,2.0]})\n",
    "s = df[\"a\"]"
   ]
  },
  {
   "cell_type": "code",
   "execution_count": null,
   "id": "8c1d6d1a-d560-4edc-b6b1-74e95c817a20",
   "metadata": {
    "jupyter": {
     "source_hidden": true
    },
    "tags": []
   },
   "outputs": [],
   "source": [
    "s"
   ]
  },
  {
   "cell_type": "markdown",
   "id": "d72df459-0b61-43dd-8a11-529d37c85fe1",
   "metadata": {},
   "source": [
    "`s` has 64-bit integer dtype "
   ]
  },
  {
   "cell_type": "code",
   "execution_count": null,
   "id": "bdbc0f0f-b867-4d00-aef2-43ada786c5e1",
   "metadata": {
    "jupyter": {
     "source_hidden": true
    },
    "tags": []
   },
   "outputs": [],
   "source": [
    "s2 = df[\"b\"]\n",
    "s2"
   ]
  },
  {
   "cell_type": "markdown",
   "id": "52eeaa66-b731-4db5-963b-a1b8ba01eedd",
   "metadata": {},
   "source": [
    "`s2` has 64-bit floating point dtype "
   ]
  }
 ],
 "metadata": {
  "kernelspec": {
   "display_name": "Python 3 (ipykernel)",
   "language": "python",
   "name": "python3"
  },
  "language_info": {
   "codemirror_mode": {
    "name": "ipython",
    "version": 3
   },
   "file_extension": ".py",
   "mimetype": "text/x-python",
   "name": "python",
   "nbconvert_exporter": "python",
   "pygments_lexer": "ipython3",
   "version": "3.9.18"
  }
 },
 "nbformat": 4,
 "nbformat_minor": 5
}
