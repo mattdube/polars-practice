{
 "cells": [
  {
   "cell_type": "markdown",
   "id": "2bf5718e-7cf0-49ba-8898-6ec9645fc09b",
   "metadata": {},
   "source": [
    "## List dtype 2: using expressions on List columns\n",
    "\n",
    "By the end of this lecture you will be able to:\n",
    "- select data in lists\n",
    "- re-order data in lists\n",
    "- aggregate data in lists\n",
    "- call expressions on each row in a `pl.List` column\n",
    "\n",
    "Recall that each row in a Polars `pl.List` column is a Polars `Series`. We refer to the object on each row as a list for consistency with the dtype name."
   ]
  },
  {
   "cell_type": "code",
   "execution_count": null,
   "id": "6773a7b8-738d-4848-b17d-452e3e3029be",
   "metadata": {},
   "outputs": [],
   "source": [
    "import polars as pl"
   ]
  },
  {
   "cell_type": "markdown",
   "id": "c9abc1a6-8fc6-4864-94b0-ea256e5f0a12",
   "metadata": {},
   "source": [
    "We create a `DataFrame` with a `pl.List` column"
   ]
  },
  {
   "cell_type": "code",
   "execution_count": null,
   "id": "6a7e7280-53e0-49c2-aceb-42fe778145c0",
   "metadata": {},
   "outputs": [],
   "source": [
    "df = (\n",
    "    pl.DataFrame(\n",
    "        {\n",
    "            'values':[ \n",
    "                [0,1], \n",
    "                [2,3,4],\n",
    "                [4,5,6,7,8]\n",
    "            ],\n",
    "        }\n",
    "    )\n",
    ")\n",
    "df"
   ]
  },
  {
   "cell_type": "markdown",
   "id": "1216ba33-4dd6-455b-93be-9b4820556299",
   "metadata": {},
   "source": [
    "Note that the length of the list does not have to be the same on each row"
   ]
  },
  {
   "cell_type": "markdown",
   "id": "63e4fa2e-f79e-45c9-b110-eec5a46a223d",
   "metadata": {},
   "source": [
    "## The list expression namespace\n",
    "Polars has a `.list` namespace for expressions that work on `pl.List` columns\n",
    "https://pola-rs.github.io/polars/py-polars/html/reference/expressions/list.html\n",
    "\n",
    "## Selecting data in each list\n",
    "We can use list expressions from the `list` namespace to select data from:\n",
    "- the start and end of the list on each row and `first`,`last`,`head` and `tail`\n",
    "- slices with `slice`"
   ]
  },
  {
   "cell_type": "code",
   "execution_count": null,
   "id": "0a1c9cbe-a3c7-4cce-acb0-a57f2e4f91fb",
   "metadata": {},
   "outputs": [],
   "source": [
    "(\n",
    "    df\n",
    "    .with_columns(\n",
    "        [\n",
    "            pl.col(\"values\").list.first().alias(\"first\"),\n",
    "            pl.col(\"values\").list.last().alias(\"last\"),\n",
    "            pl.col(\"values\").list.head(2).alias(\"head\"),\n",
    "            pl.col(\"values\").list.tail(2).alias(\"tail\"),\n",
    "            pl.col(\"values\").list.slice(1,2).alias(\"slice\"),\n",
    "\n",
    "        ]\n",
    "    )\n",
    ")"
   ]
  },
  {
   "cell_type": "markdown",
   "id": "9c39da0d-56dd-4b07-a196-4dbcb020d997",
   "metadata": {},
   "source": [
    "More generally, we use `list.get` to select a value by a position index in each list"
   ]
  },
  {
   "cell_type": "code",
   "execution_count": null,
   "id": "2485a04f-defb-4b6f-8ebb-04b80c619bc6",
   "metadata": {},
   "outputs": [],
   "source": [
    "(\n",
    "    df\n",
    "    .with_columns(\n",
    "        [\n",
    "            pl.col(\"values\").list.get(0).alias(\"first\"),\n",
    "            pl.col(\"values\").list.get(1).alias(\"second\"),\n",
    "            pl.col(\"values\").list.get(-1).alias(\"last\"),\n",
    "\n",
    "        ]\n",
    "    )\n",
    ")"
   ]
  },
  {
   "cell_type": "markdown",
   "id": "3375c2a4-a360-40da-96e6-da5bc7c04ba3",
   "metadata": {},
   "source": [
    "### Finding values in lists\n",
    "- We can check whether a value is in an list with `list.contains`\n",
    "- We can find all unique values in an list with `list.unique`"
   ]
  },
  {
   "cell_type": "code",
   "execution_count": null,
   "id": "1d2a47d8-d798-456b-837e-edeab92c9eaf",
   "metadata": {},
   "outputs": [],
   "source": [
    "(\n",
    "    df\n",
    "    .with_columns(\n",
    "        [\n",
    "            pl.col(\"values\").list.contains(i).alias(str(i)) for i in range(3)\n",
    "        ]\n",
    "    )\n",
    "    .with_columns(\n",
    "        pl.col(\"values\").list.unique().alias(\"unique\")\n",
    "    )\n",
    ")"
   ]
  },
  {
   "cell_type": "markdown",
   "id": "8d121633-85b9-43e7-bdeb-f23f54c136f9",
   "metadata": {},
   "source": [
    "### Re-ordering values in each list\n",
    "We can re-order values in each list:\n",
    "- `reverse` reverses the order of the list\n",
    "- `sort` sorts each list\n",
    "- `shift` moves values in each list (in a non-periodic way) so the first values are `null`"
   ]
  },
  {
   "cell_type": "code",
   "execution_count": null,
   "id": "8a8ab882-7ddd-4196-a4f3-cf00121e8cca",
   "metadata": {},
   "outputs": [],
   "source": [
    "(\n",
    "    df\n",
    "    .with_columns(\n",
    "        [\n",
    "            pl.col(\"values\").list.reverse().alias(\"reverse\"),\n",
    "            pl.col(\"values\").list.sort().alias(\"sort\"),\n",
    "            pl.col(\"values\").list.shift(1).alias(\"shift\"),\n",
    "        ]\n",
    "    )\n",
    ")"
   ]
  },
  {
   "cell_type": "markdown",
   "id": "915f2bc9-cd36-4f2a-939f-28f89db32300",
   "metadata": {},
   "source": [
    "### List aggregations\n",
    "We can use list expressions to aggregate the lists"
   ]
  },
  {
   "cell_type": "code",
   "execution_count": null,
   "id": "5f93911b-0dbf-4753-b8b8-f8baf17ef1af",
   "metadata": {},
   "outputs": [],
   "source": [
    "(\n",
    "    df\n",
    "    .with_columns(\n",
    "        [\n",
    "            pl.col(\"values\").list.len().alias(\"lengths\"),\n",
    "            pl.col(\"values\").list.min().alias(\"min\"),\n",
    "            pl.col(\"values\").list.mean().alias(\"mean\"),\n",
    "            pl.col(\"values\").list.max().alias(\"max\"),\n",
    "        ]\n",
    "    )\n",
    ")"
   ]
  },
  {
   "cell_type": "markdown",
   "id": "ff06f192-a895-4b91-8fee-e47399ab590d",
   "metadata": {},
   "source": [
    "## Calling expressions on each list\n",
    "Each row in a `pl.List` column is a `Series`. We can call the same expressions on each `Series` that we would call on a standalone `Series` or column in a `DataFrame`.\n",
    "\n",
    "To do this we:\n",
    "- call `list.eval` on the `pl.List` column and inside this \n",
    "- call `pl.element` to select the list on each row and then call expressions\n",
    "\n",
    "The call to `pl.element` inside `list.eval` is like calling `pl.col` on a column in a `DataFrame`\n",
    "\n",
    "In this example we `rank` the elements of each list"
   ]
  },
  {
   "cell_type": "code",
   "execution_count": null,
   "id": "75df3479-68da-40a2-b253-4df05c532c33",
   "metadata": {},
   "outputs": [],
   "source": [
    "(\n",
    "    pl.DataFrame(\n",
    "        {\n",
    "            'values':[ \n",
    "                [0,1], \n",
    "                [4,3,2]\n",
    "            ],\n",
    "        }\n",
    "    )\n",
    "    .with_columns(\n",
    "        pl.col(\"values\").list.eval(\n",
    "            pl.element().rank(method=\"ordinal\")\n",
    "        ).alias(\"eval\")\n",
    "    )\n",
    ")"
   ]
  },
  {
   "cell_type": "markdown",
   "id": "9c019ad7-823a-45a1-afbb-75fa861effb0",
   "metadata": {},
   "source": [
    "If we call `pl.element` with no further expressions it returns the full list on each row"
   ]
  },
  {
   "cell_type": "code",
   "execution_count": null,
   "id": "f5ed0482-4f4f-4c3b-abb1-71f5655939cc",
   "metadata": {},
   "outputs": [],
   "source": [
    "(\n",
    "    pl.DataFrame(\n",
    "        {\n",
    "            'values':[ \n",
    "                [0,1], \n",
    "                [4,3,2]\n",
    "            ],\n",
    "        }\n",
    "    )\n",
    "    .with_columns(\n",
    "        pl.col(\"values\").list.eval(\n",
    "            pl.element()\n",
    "        ).alias(\"eval\")\n",
    "    )\n",
    ")"
   ]
  },
  {
   "cell_type": "markdown",
   "id": "5f5b0438-8e0d-41c0-90cb-4285c6a73271",
   "metadata": {},
   "source": [
    "We can do more complicated operations with repeated calls to `pl.element`\n",
    "\n",
    "In this example we want to remove `null` values in the lists using a `filter` inside `list.eval`"
   ]
  },
  {
   "cell_type": "code",
   "execution_count": null,
   "id": "957242e8-da1f-44fc-afdd-32ed922bbdb5",
   "metadata": {},
   "outputs": [],
   "source": [
    "(\n",
    "    pl.DataFrame(\n",
    "        {\n",
    "            'values':[ \n",
    "                [0,None,1], \n",
    "                [2,3,None]\n",
    "            ],\n",
    "        }\n",
    "    )\n",
    "    .with_columns(\n",
    "        pl.col(\"values\").list.eval(\n",
    "            pl.element().filter(\n",
    "                pl.element().is_not_null()\n",
    "            )\n",
    "        ).alias(\"eval\")\n",
    "    )\n",
    ")"
   ]
  },
  {
   "cell_type": "markdown",
   "id": "6e6b18fe-8afb-4c21-9266-484b42a18bb2",
   "metadata": {},
   "source": [
    "## Exercises\n",
    "In the exercises you will develop your understanding of:\n",
    "- splitting a string into an list\n",
    "- extracting elements of an list\n",
    "- slicing an list\n",
    "- indexing into an list using expressions\n",
    "\n",
    "### Exercise 1\n",
    "We need to parse the following address strings to get columns with the:\n",
    "- number\n",
    "- street\n",
    "- city\n",
    "- state\n",
    "- zipcode"
   ]
  },
  {
   "cell_type": "code",
   "execution_count": null,
   "id": "8af1b97b-ef34-4d95-bacf-843293776b8c",
   "metadata": {},
   "outputs": [],
   "source": [
    "pl.Config.set_fmt_str_lengths(150)\n",
    "addresses = [\n",
    "    '93 NORTH 9TH STREET, BROOKLYN NY 11211',\n",
    "    '380 WESTMINSTER ST, PROVIDENCE RI 02903',\n",
    "    '177 MAIN STREET, LITTLETON NH 03561'\n",
    "]\n",
    "df = (\n",
    "    pl.DataFrame(\n",
    "        {\"address\":addresses}\n",
    "    )\n",
    ")\n",
    "df"
   ]
  },
  {
   "cell_type": "markdown",
   "id": "3679c756-b6bf-4259-b20f-839b70ae723e",
   "metadata": {},
   "source": [
    "Add a column called `split` with the string split by whitespace (using `str.split`) into a list column"
   ]
  },
  {
   "cell_type": "code",
   "execution_count": null,
   "id": "d146d965-86e4-4cb3-9dca-e55184803836",
   "metadata": {},
   "outputs": [],
   "source": [
    "(\n",
    "    df\n",
    "    .with_columns(\n",
    "        <blank>\n",
    "    )\n",
    ")"
   ]
  },
  {
   "cell_type": "markdown",
   "id": "b2390086-1e07-4b3f-a5b0-1271ef3e0345",
   "metadata": {},
   "source": [
    "In an additional `with_column` statement add a 32-bit integer column called `number` using the `first` element of each list"
   ]
  },
  {
   "cell_type": "code",
   "execution_count": null,
   "id": "c743984d-7c8f-4cc2-a2cb-c24260bccfca",
   "metadata": {},
   "outputs": [],
   "source": []
  },
  {
   "cell_type": "markdown",
   "id": "3b406b9c-3498-493d-9f0b-4f1e376d73d4",
   "metadata": {},
   "source": [
    "The street component of the address runs from the second element of the list to the element of the list that contains a comma.\n",
    "\n",
    "Add a list column called `contains_comma` where we check if each element in the lists in `split` contain a comma. Use `eval` to run the `str.contains` expression on each element in the list"
   ]
  },
  {
   "cell_type": "code",
   "execution_count": null,
   "id": "6a13e9b5-f42e-4ad0-b87e-1aa5ca2ef545",
   "metadata": {},
   "outputs": [],
   "source": []
  },
  {
   "cell_type": "markdown",
   "id": "1b3a16b7-3ce4-4b4a-8027-e72ad718d897",
   "metadata": {},
   "source": [
    "With a new call to `with_column` slice each list in `split` from the second element to the index of the element that contains a comma.\n",
    "\n",
    "Hint 1: there is an `list.arg_max` expression that finds the index of the largest value in an list. Use this to find the index of the `True` value in `contains_comma`"
   ]
  },
  {
   "cell_type": "code",
   "execution_count": null,
   "id": "3f5a1701-63b5-4b59-a7f4-e83f6bc2498b",
   "metadata": {},
   "outputs": [],
   "source": [
    "(\n",
    "    pl.DataFrame(\n",
    "        {\n",
    "            \"values\":\n",
    "            [\n",
    "                [0,1],\n",
    "                [3,2]\n",
    "            ]\n",
    "        }\n",
    "    )\n",
    "    .with_columns(\n",
    "        pl.col(\"values\").list.arg_max().alias(\"arg_max\")\n",
    "    )\n",
    ")"
   ]
  },
  {
   "cell_type": "markdown",
   "id": "d66a8356-6486-4f2c-a72f-7979b4c35531",
   "metadata": {},
   "source": [
    "Hint 2: you can pass an expression to `list.slice` if you want the `slice` to depend on values in another column"
   ]
  },
  {
   "cell_type": "markdown",
   "id": "16cd2c52-c070-4baa-93d4-d0aec2934900",
   "metadata": {},
   "source": [
    "Python has a `join` method to combine a list of strings into a single string"
   ]
  },
  {
   "cell_type": "code",
   "execution_count": null,
   "id": "c3ae0064-2608-4f98-ba35-ea8306e65c71",
   "metadata": {},
   "outputs": [],
   "source": [
    "';'.join(['a','b'])"
   ]
  },
  {
   "cell_type": "markdown",
   "id": "1daa7dbb-2f77-41f7-bf28-a1b0163a5156",
   "metadata": {},
   "source": [
    "Polars has a similar method called `list.join`.\n",
    "\n",
    "Join the string lists in `street` using `list.join` (with a \" \" separating the strings)"
   ]
  },
  {
   "cell_type": "code",
   "execution_count": null,
   "id": "e170ad13-666e-42f3-a7ab-5040f03d4330",
   "metadata": {},
   "outputs": [],
   "source": []
  },
  {
   "cell_type": "markdown",
   "id": "3aa06b16-e87f-47cb-98ca-dba7c71f1be3",
   "metadata": {},
   "source": [
    "Extract the `city` from `split` by slicing. The slice should start from the `arg_max` value in `contains_command` and have a length of 1 (here we are taking advantage of 3 one word city names!)"
   ]
  },
  {
   "cell_type": "code",
   "execution_count": null,
   "id": "30494dcc-a3f3-4653-bb73-3c4d0da2df1f",
   "metadata": {},
   "outputs": [],
   "source": []
  },
  {
   "cell_type": "markdown",
   "id": "97745ec9-a280-442e-ac55-52c7fd9144dc",
   "metadata": {},
   "source": [
    "Get the `zipcode` as the last element in `split`"
   ]
  },
  {
   "cell_type": "code",
   "execution_count": null,
   "id": "ecc2d2b2-ae46-4d2e-aae5-91edbfcd5c28",
   "metadata": {},
   "outputs": [],
   "source": []
  },
  {
   "cell_type": "markdown",
   "id": "d6f567dd-0be8-4f8e-9d01-b3679b013ad9",
   "metadata": {},
   "source": [
    "### Solution to exercise 1\n",
    "We need to parse the following address strings to get columns with the:\n",
    "- number\n",
    "- street\n",
    "- city\n",
    "- state\n",
    "- zipcode"
   ]
  },
  {
   "cell_type": "code",
   "execution_count": null,
   "id": "799027fd-a906-4ab5-b083-0aee5a2bfa3f",
   "metadata": {},
   "outputs": [],
   "source": [
    "pl.Config.set_fmt_str_lengths(150)\n",
    "addresses = [\n",
    "    '93 NORTH 9TH STREET, BROOKLYN NY 11211',\n",
    "    '380 WESTMINSTER ST, PROVIDENCE RI 02903',\n",
    "    '177 MAIN STREET, LITTLETON NH 03561'\n",
    "]\n",
    "df = (\n",
    "    pl.DataFrame(\n",
    "        {\"address\":addresses}\n",
    "    )\n",
    ")\n",
    "df"
   ]
  },
  {
   "cell_type": "markdown",
   "id": "d84184ff-6643-43dd-bd44-7375f429cb9c",
   "metadata": {},
   "source": [
    "Add a column called `split` with the string split by whitespace (using `str.split`) into a list column"
   ]
  },
  {
   "cell_type": "code",
   "execution_count": null,
   "id": "cd02c547-04b4-476f-8675-4c06231e8e60",
   "metadata": {
    "jupyter": {
     "source_hidden": true
    },
    "tags": []
   },
   "outputs": [],
   "source": [
    "(\n",
    "    df\n",
    "    .with_columns(\n",
    "        pl.col(\"address\").str.split(\" \").alias(\"split\")\n",
    "    )\n",
    ")"
   ]
  },
  {
   "cell_type": "markdown",
   "id": "8369ea43-2538-4c6a-b01c-bb9410817403",
   "metadata": {},
   "source": [
    "Add a 32-bit integer column called `number` using the `first` element of each list"
   ]
  },
  {
   "cell_type": "code",
   "execution_count": null,
   "id": "33ae204c-ee55-4b43-a4a0-151533302383",
   "metadata": {
    "jupyter": {
     "source_hidden": true
    },
    "tags": []
   },
   "outputs": [],
   "source": [
    "(\n",
    "    df\n",
    "    .with_columns(\n",
    "        pl.col(\"address\").str.split(\" \").alias(\"split\")\n",
    "    )\n",
    "    .with_columns(\n",
    "        pl.col(\"split\").list.first().cast(pl.Int32).alias(\"number\")\n",
    "    )\n",
    ")"
   ]
  },
  {
   "cell_type": "markdown",
   "id": "0f8dacc1-4c2e-4112-a45c-c1e401a38744",
   "metadata": {},
   "source": [
    "The street component of the address runs from the second element of the list to the element of the list that contains a comma.\n",
    "\n",
    "Add a list column called `contains_comma` where we check if each element in the lists in `split` contain a comma. Use `eval` to run the `str.contains` expression on each element in the list"
   ]
  },
  {
   "cell_type": "code",
   "execution_count": null,
   "id": "111278cc-3f60-49d2-93b5-ac707af84001",
   "metadata": {
    "jupyter": {
     "source_hidden": true
    },
    "tags": []
   },
   "outputs": [],
   "source": [
    "(\n",
    "    df\n",
    "    .with_columns(\n",
    "        pl.col(\"address\").str.split(\" \").alias(\"split\")\n",
    "    )\n",
    "    .with_columns(\n",
    "        [\n",
    "            pl.col(\"split\").list.first().cast(pl.Int64).alias(\"number\"),\n",
    "            pl.col(\"split\").list.eval(\n",
    "                pl.element().str.contains(\",\")\n",
    "            ).alias(\"contains_comma\")\n",
    "        ]\n",
    "    )\n",
    ")"
   ]
  },
  {
   "cell_type": "markdown",
   "id": "455ccd5a-47e8-44aa-b09a-1395d49437c3",
   "metadata": {},
   "source": [
    "With a new call to `with_column` slice each list in `split` from the second element to the index of the element that contains a comma.\n",
    "\n",
    "Hint 1: there is an `list.arg_max` expression that finds the index of the largest value in an list. Use this to find the index of the `True` value in `contains_comma`"
   ]
  },
  {
   "cell_type": "code",
   "execution_count": null,
   "id": "4ca5596d-f8d5-4f1c-8b9e-57456296918e",
   "metadata": {
    "jupyter": {
     "source_hidden": true
    }
   },
   "outputs": [],
   "source": [
    "(\n",
    "    pl.DataFrame(\n",
    "        {\n",
    "            \"values\":\n",
    "            [\n",
    "                [0,1],\n",
    "                [3,2]\n",
    "            ]\n",
    "        }\n",
    "    )\n",
    "    .with_columns(\n",
    "        pl.col(\"values\").list.arg_max().alias(\"arg_max\")\n",
    "    )\n",
    ")"
   ]
  },
  {
   "cell_type": "markdown",
   "id": "8ea760cc-979f-4cda-8275-02afa2baaad3",
   "metadata": {},
   "source": [
    "Hint 2: you can pass an expression to `list.slice` if you want the `slice` to depend on values in another column"
   ]
  },
  {
   "cell_type": "code",
   "execution_count": null,
   "id": "5fa8bff5-99df-44a4-909b-aaefacc75d80",
   "metadata": {
    "jupyter": {
     "source_hidden": true
    },
    "tags": []
   },
   "outputs": [],
   "source": [
    "(\n",
    "    df\n",
    "    .with_columns(\n",
    "        pl.col(\"address\").str.split(\" \").alias(\"split\")\n",
    "    )\n",
    "    .with_columns(\n",
    "        [\n",
    "            pl.col(\"split\").list.first().cast(pl.Int32).alias(\"number\"),\n",
    "            pl.col(\"split\").list.eval(pl.element().str.contains(\",\")).alias(\"contains_comma\")\n",
    "        ]\n",
    "    )\n",
    "    .with_columns(\n",
    "        pl.col(\"split\").list.slice(1,pl.col(\"contains_comma\").list.arg_max()).alias(\"street\")\n",
    "    )\n",
    "    \n",
    ")"
   ]
  },
  {
   "cell_type": "markdown",
   "id": "b76db936-248b-4829-84be-ec9a0b9b5c09",
   "metadata": {},
   "source": [
    "Join the string lists in `street` using `list.join` (with a \" \" separating the strings)"
   ]
  },
  {
   "cell_type": "code",
   "execution_count": null,
   "id": "c788d9c5-b61c-4a54-913c-3caec0dd8d07",
   "metadata": {
    "jupyter": {
     "source_hidden": true
    },
    "tags": []
   },
   "outputs": [],
   "source": [
    "(\n",
    "    df\n",
    "    .with_columns(\n",
    "        pl.col(\"address\").str.split(\" \").alias(\"split\")\n",
    "    )\n",
    "    .with_columns(\n",
    "        [\n",
    "            pl.col(\"split\").list.first().cast(pl.Int32).alias(\"number\"),\n",
    "            pl.col(\"split\").list.eval(pl.element().str.contains(\",\")).alias(\"contains_comma\")\n",
    "        ]\n",
    "    )\n",
    "    .with_columns(\n",
    "        pl.col(\"split\").list.slice(1,pl.col(\"contains_comma\").list.arg_max()).list.join(\" \").alias(\"street\")\n",
    "    )\n",
    "    \n",
    ")"
   ]
  },
  {
   "cell_type": "markdown",
   "id": "4a976cfb-fb1e-42d7-b1fd-e1226eea91bc",
   "metadata": {},
   "source": [
    "Extract the `city` from `split` by slicing. The slice should start from the `arg_max` value in `contains_command` and have a length of 1 (here we are taking advantage of 3 one word city names!)"
   ]
  },
  {
   "cell_type": "code",
   "execution_count": null,
   "id": "b45b351b-6438-48f3-b2ef-8b24a070ec28",
   "metadata": {
    "jupyter": {
     "source_hidden": true
    },
    "tags": []
   },
   "outputs": [],
   "source": [
    "(\n",
    "    df\n",
    "    .with_columns(\n",
    "        pl.col(\"address\").str.split(\" \").alias(\"split\")\n",
    "    )\n",
    "    .with_columns(\n",
    "        [\n",
    "            pl.col(\"split\").list.first().cast(pl.Int32).alias(\"number\"),\n",
    "            pl.col(\"split\").list.eval(pl.element().str.contains(\",\")).alias(\"contains_comma\")\n",
    "        ]\n",
    "    )\n",
    "    .with_columns(\n",
    "        pl.col(\"split\").list.slice(1,pl.col(\"contains_comma\").list.arg_max()).list.join(\" \").alias(\"street\")\n",
    "    )\n",
    "    .with_columns(\n",
    "        pl.col(\"split\").list.slice(\n",
    "            pl.col(\"contains_comma\").list.arg_max()+1,1\n",
    "        ).alias(\"city\")\n",
    "    )\n",
    ")"
   ]
  },
  {
   "cell_type": "markdown",
   "id": "5fbabd3c-c2db-4998-9f59-17d1800a0074",
   "metadata": {},
   "source": [
    "Get the `zipcode` as the last element in `split`"
   ]
  },
  {
   "cell_type": "code",
   "execution_count": null,
   "id": "b66180b2-f58e-4211-b0ba-85214cc85195",
   "metadata": {
    "jupyter": {
     "source_hidden": true
    },
    "tags": []
   },
   "outputs": [],
   "source": [
    "(\n",
    "    df\n",
    "    .with_columns(\n",
    "        pl.col(\"address\").str.split(\" \").alias(\"split\")\n",
    "    )\n",
    "    .with_columns(\n",
    "        [\n",
    "            pl.col(\"split\").list.first().cast(pl.Int32).alias(\"number\"),\n",
    "            pl.col(\"split\").list.eval(pl.element().str.contains(\",\")).alias(\"contains_comma\")\n",
    "        ]\n",
    "    )\n",
    "    .with_columns(\n",
    "        pl.col(\"split\").list.slice(1,pl.col(\"contains_comma\").list.arg_max()).list.join(\" \").alias(\"street\")\n",
    "    )\n",
    "    .with_columns(\n",
    "        [\n",
    "            pl.col(\"split\").list.slice(\n",
    "                pl.col(\"contains_comma\").list.arg_max()+1,1\n",
    "            ).alias(\"city\"),\n",
    "            pl.col(\"split\").list.last().cast(pl.Int32).alias(\"zipcode\")\n",
    "        ]\n",
    "    )\n",
    ")"
   ]
  },
  {
   "cell_type": "code",
   "execution_count": null,
   "id": "54975b10-7161-49a5-b778-14d042f0581d",
   "metadata": {},
   "outputs": [],
   "source": []
  }
 ],
 "metadata": {
  "kernelspec": {
   "display_name": "Python 3 (ipykernel)",
   "language": "python",
   "name": "python3"
  },
  "language_info": {
   "codemirror_mode": {
    "name": "ipython",
    "version": 3
   },
   "file_extension": ".py",
   "mimetype": "text/x-python",
   "name": "python",
   "nbconvert_exporter": "python",
   "pygments_lexer": "ipython3",
   "version": "3.10.1"
  }
 },
 "nbformat": 4,
 "nbformat_minor": 5
}
